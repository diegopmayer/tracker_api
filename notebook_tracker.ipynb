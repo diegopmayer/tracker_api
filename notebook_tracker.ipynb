{
 "cells": [
  {
   "cell_type": "markdown",
   "metadata": {},
   "source": [
    "# Tracker Requests Positions from Vehicles"
   ]
  },
  {
   "cell_type": "markdown",
   "metadata": {
    "heading_collapsed": true
   },
   "source": [
    "## 0.0 - Imports"
   ]
  },
  {
   "cell_type": "code",
   "execution_count": 664,
   "metadata": {
    "ExecuteTime": {
     "end_time": "2020-08-02T18:12:47.548224Z",
     "start_time": "2020-08-02T18:12:47.545057Z"
    },
    "hidden": true
   },
   "outputs": [],
   "source": [
    "import pandas as pd \n",
    "from requests import post \n",
    "import json, pickle\n",
    "\n",
    "import sqlite3      # to create database\n",
    "import sqlite_utils # to insert, update and delete information\n",
    "from sqlalchemy import create_engine\n",
    "\n",
    "from IPython.core.display import HTML\n",
    "import matplotlib.pyplot as plt\n",
    "import seaborn as sns\n",
    "\n",
    "# pandas to transform data and convert to dataframe\n",
    "# requests.post to invite data to serverless and the serverless response with object\n",
    "# json to convert data to json or vice versa"
   ]
  },
  {
   "cell_type": "markdown",
   "metadata": {
    "heading_collapsed": true,
    "hidden": true
   },
   "source": [
    "### 0.1 - Helper Functions"
   ]
  },
  {
   "cell_type": "code",
   "execution_count": 665,
   "metadata": {
    "ExecuteTime": {
     "end_time": "2020-08-02T18:12:50.936906Z",
     "start_time": "2020-08-02T18:12:50.898357Z"
    },
    "hidden": true
   },
   "outputs": [
    {
     "name": "stdout",
     "output_type": "stream",
     "text": [
      "Populating the interactive namespace from numpy and matplotlib\n"
     ]
    },
    {
     "data": {
      "text/html": [
       "<style>.container{width:100% !important;}</style>"
      ],
      "text/plain": [
       "<IPython.core.display.HTML object>"
      ]
     },
     "metadata": {},
     "output_type": "display_data"
    }
   ],
   "source": [
    "    \n",
    "def create_table(cursor, query):\n",
    "    \n",
    "    ''' Create table with SQLAlchemy from DataFrame object'''\n",
    "    \n",
    "    cursor.execute(query)\n",
    "\n",
    "\n",
    "def jupyter_settings():\n",
    "    \n",
    "    \n",
    "    %matplotlib inline\n",
    "    %pylab inline\n",
    "    \n",
    "    plt.style.use('bmh')\n",
    "    plt.rcParams['figure.figsize'] = [25,12]\n",
    "    plt.rcParams['font.size'] = 24\n",
    "    \n",
    "    display(HTML('<style>.container{width:100% !important;}</style>'))\n",
    "    pd.options.display.max_columns = None\n",
    "    pd.options.display.max_rows = 100\n",
    "    pd.set_option('display.expand_frame_repr', False)\n",
    "\n",
    "    sns.set()\n",
    "jupyter_settings()\n",
    "\n",
    "\n",
    "# Function to get user data and exported to pickle file.\n",
    "# I deleted data inputed for security, it was only function to now how you done.\n",
    "def user_logon():\n",
    "    \n",
    "    \n",
    "    ''' Store the data to Authentication from integration Tracker\n",
    "        url_logon: url to Authentication and get token\n",
    "        url_veiculos: Url to load vehicles informations\n",
    "        url_posicao: Url to load positions informations\n",
    "        headers: Type of send headers this case is json\n",
    "        handshake: Data to authentication from integration\n",
    "                post (informations that you must send like handshake)\n",
    "                    username: username account to access grid tracker\n",
    "                    password: password account to access grid tracker\n",
    "                    appid: Id delivered from Tracker\n",
    "                response (informations that you receive after logon)\n",
    "                    token: the alfanumeric code that it's must be send post\n",
    "                    expiration: There aren't expiration '''\n",
    "    \n",
    "    url_logon = 'http://'\n",
    "    url_veiculos = 'http://'\n",
    "    url_posicao = 'http://'\n",
    "    headers = {\"content-type\":\"application/json\"}\n",
    "    handshake = {'username':'', 'password':'', 'appid':'', 'token':'', 'expriration':''}\n",
    "    \n",
    "    return url_logon, url_veiculos, url_posicao, headers, handshake"
   ]
  },
  {
   "cell_type": "markdown",
   "metadata": {
    "heading_collapsed": true,
    "hidden": true
   },
   "source": [
    "### 0.2 - Requests Data Collect"
   ]
  },
  {
   "cell_type": "markdown",
   "metadata": {
    "hidden": true
   },
   "source": [
    "Requests API from Tracker, with method Post, see the <a href=\"\">documentation</a>"
   ]
  },
  {
   "cell_type": "markdown",
   "metadata": {
    "heading_collapsed": true,
    "hidden": true
   },
   "source": [
    "#### 0.2.1 - User Authentication"
   ]
  },
  {
   "cell_type": "code",
   "execution_count": 25,
   "metadata": {
    "ExecuteTime": {
     "end_time": "2020-07-27T15:28:54.340946Z",
     "start_time": "2020-07-27T15:28:54.326551Z"
    },
    "hidden": true
   },
   "outputs": [],
   "source": [
    "# Dumping object with data authentication to pickle format\n",
    "# with open(\"user_logon.pkl\", \"wb\") as file:\n",
    "#    pickle.dump(user_logon(), file)\n",
    "\n",
    "\n",
    "# Loading data from pickle file content user data to connection authentication\n",
    "with open(\"user_logon.pkl\", \"rb\") as f_load:\n",
    "    url_logon, url_vehicles, url_position, headers, handshake = pickle.load(f_load)"
   ]
  },
  {
   "cell_type": "markdown",
   "metadata": {
    "hidden": true
   },
   "source": [
    "Token"
   ]
  },
  {
   "cell_type": "code",
   "execution_count": null,
   "metadata": {
    "hidden": true
   },
   "outputs": [],
   "source": [
    "# send data and return object to store token\n",
    "# without token can't access the vehicle\n",
    "response_logon = post(url_logon,\n",
    "                        data=json.dumps(handshake),\n",
    "                        headers=headers) # response array object\n",
    "token = {\"token\":response_logon.json()['object']\n",
    "        ['token']} # store token form object"
   ]
  },
  {
   "cell_type": "markdown",
   "metadata": {
    "heading_collapsed": true,
    "hidden": true
   },
   "source": [
    "#### 0.2.2 - Vehicles"
   ]
  },
  {
   "cell_type": "code",
   "execution_count": null,
   "metadata": {
    "hidden": true
   },
   "outputs": [],
   "source": [
    "# Requests to get vehicle informations\n",
    "response_vehicles = post(url_vehicles, headers=token)\n",
    "obj_vehicle = response_vehicles.json() # transform obj array to json"
   ]
  },
  {
   "cell_type": "code",
   "execution_count": null,
   "metadata": {
    "hidden": true
   },
   "outputs": [],
   "source": [
    "# Save json file in the local folder\n",
    "# this only for development mode, after validation, it's better maker a \n",
    "# function to store object without saving\n",
    "#with open('collected_2020061810.json', 'w') as json_file:\n",
    "#    json.dump(obj_veiculo, json_file)\n",
    "\n",
    "# Transforming Json to DataFrame\n",
    "obj_vehicle_df = pd.DataFrame(obj_vehicle['object']).copy()"
   ]
  },
  {
   "cell_type": "code",
   "execution_count": null,
   "metadata": {
    "hidden": true
   },
   "outputs": [],
   "source": [
    "# Drop List to delete columns that it's not necessary for while\n",
    "drop_list = \"\"\"\n",
    "    codigorf          \n",
    "    odometroGps        \n",
    "    dataAquisicao \n",
    "    distanciaKmFrete\n",
    "    kmManual\n",
    "    horimetroManual\n",
    "    horimetroAtual\n",
    "    kmAtual\n",
    "    statusVenda\n",
    "    dataAtivado\n",
    "    dataCancelado\n",
    "    finalizado\n",
    "    renavam\n",
    "    dataInstalacao\n",
    "    motoristas\n",
    "    dispositivos\n",
    "    grupos\n",
    "    \"\"\".split()\n",
    "df_vehicles = obj_vehicle_df.drop(drop_list, axis=1).copy()"
   ]
  },
  {
   "cell_type": "markdown",
   "metadata": {
    "heading_collapsed": true,
    "hidden": true
   },
   "source": [
    "#### 0.2.3 - Positions"
   ]
  },
  {
   "cell_type": "code",
   "execution_count": null,
   "metadata": {
    "hidden": true
   },
   "outputs": [],
   "source": [
    "# Requests to get vehicle positions\n",
    "response_position = post(url_position, headers=token)\n",
    "obj_position = response_position.json()"
   ]
  },
  {
   "cell_type": "code",
   "execution_count": null,
   "metadata": {
    "hidden": true
   },
   "outputs": [],
   "source": [
    "# Transforming Json to DataFrame\n",
    "df_positions = pd.DataFrame(obj_position['object']).copy()"
   ]
  },
  {
   "cell_type": "markdown",
   "metadata": {
    "hidden": true
   },
   "source": [
    "<h3>Resumo em Português</h3>\n",
    "<p>realizado o request com método post para a api da tracker no post contém as informações de envio; o tipo de dados \"json\" os dados do usuário(user, senha, id) e retornado um objecto com as informações e enviadas e mais um objeto com as informações do token, sem o token não é possível fazer a requisição, com isso na requisição para veiculos é enviado o token para que deem acesso aos dados, então retornado um objeto array com os dados dos veiculos, porém mais da metade dos campos(colunas) estão vazias(nulas), com isso uma das informações mais importantes que é o posicionamento do veiculo estão nulas, invalidando o projeto, tem outra url de para requisição que é para pegar especificadamente o posicionamento, porém, retornado vazio também, será comunicado ao responsável técnico da tracker para correção ou permissão da mesma.(20/06/2020)</p>"
   ]
  },
  {
   "cell_type": "markdown",
   "metadata": {
    "heading_collapsed": true,
    "hidden": true
   },
   "source": [
    "#### 0.2.4 - Pickle loading to tests"
   ]
  },
  {
   "cell_type": "code",
   "execution_count": 666,
   "metadata": {
    "ExecuteTime": {
     "end_time": "2020-08-02T18:12:58.126643Z",
     "start_time": "2020-08-02T18:12:56.935485Z"
    },
    "hidden": true
   },
   "outputs": [],
   "source": [
    "with open(\"df_positions.pkl\", \"rb\") as file:\n",
    "    df_positions = pickle.load(file)\n",
    "    \n",
    "with open(\"df_vehicles.pkl\", \"rb\") as file:\n",
    "    df_vehicles = pickle.load(file)"
   ]
  },
  {
   "cell_type": "markdown",
   "metadata": {
    "heading_collapsed": true
   },
   "source": [
    "## 1.0 - Data Description"
   ]
  },
  {
   "cell_type": "markdown",
   "metadata": {
    "hidden": true
   },
   "source": [
    "### 1.1 - Rename Columns"
   ]
  },
  {
   "cell_type": "markdown",
   "metadata": {
    "heading_collapsed": true,
    "hidden": true
   },
   "source": [
    "### 1.2 - Data Dimention"
   ]
  },
  {
   "cell_type": "code",
   "execution_count": 667,
   "metadata": {
    "ExecuteTime": {
     "end_time": "2020-08-02T18:13:01.484663Z",
     "start_time": "2020-08-02T18:13:01.477166Z"
    },
    "hidden": true
   },
   "outputs": [
    {
     "data": {
      "text/plain": [
       "((9842, 20), (3281, 37))"
      ]
     },
     "execution_count": 667,
     "metadata": {},
     "output_type": "execute_result"
    }
   ],
   "source": [
    "df_vehicles.shape, df_positions.shape"
   ]
  },
  {
   "cell_type": "markdown",
   "metadata": {
    "heading_collapsed": true,
    "hidden": true
   },
   "source": [
    "### 1.3 - Check NaN and Fillout"
   ]
  },
  {
   "cell_type": "markdown",
   "metadata": {
    "hidden": true
   },
   "source": [
    "#### 1.3.1 - Vehicle DataFrame"
   ]
  },
  {
   "cell_type": "code",
   "execution_count": 668,
   "metadata": {
    "ExecuteTime": {
     "end_time": "2020-08-02T18:13:04.876519Z",
     "start_time": "2020-08-02T18:13:04.866362Z"
    },
    "hidden": true
   },
   "outputs": [
    {
     "name": "stdout",
     "output_type": "stream",
     "text": [
      "id                      0\n",
      "dataCadastrado          0\n",
      "fuso                 8163\n",
      "deletado                0\n",
      "status                  4\n",
      "vin                     0\n",
      "anoFabricacao         231\n",
      "anoModelo             226\n",
      "placa                   0\n",
      "tipoMonitoramento    6014\n",
      "marca                3658\n",
      "modelo                  0\n",
      "cor                     3\n",
      "descricao            6365\n",
      "frota                9235\n",
      "tipo                   26\n",
      "assistencia             0\n",
      "usuarioCriacao          0\n",
      "proprietarioId          0\n",
      "proprietario            0\n",
      "dtype: int64\n"
     ]
    }
   ],
   "source": [
    "# See all the columns and check the NaN\n",
    "print(df_vehicles.isna().sum())"
   ]
  },
  {
   "cell_type": "code",
   "execution_count": 669,
   "metadata": {
    "ExecuteTime": {
     "end_time": "2020-08-02T18:13:05.421376Z",
     "start_time": "2020-08-02T18:13:05.418992Z"
    },
    "hidden": true
   },
   "outputs": [],
   "source": [
    "# list of columns that you will drop from DataFrame because is Null\n",
    "drop_list_vehicles = [\n",
    "    'fuso', 'tipoMonitoramento', 'frota'\n",
    "]"
   ]
  },
  {
   "cell_type": "code",
   "execution_count": 670,
   "metadata": {
    "ExecuteTime": {
     "end_time": "2020-08-02T18:13:06.011851Z",
     "start_time": "2020-08-02T18:13:05.996024Z"
    },
    "hidden": true
   },
   "outputs": [
    {
     "data": {
      "text/plain": [
       "id                   0\n",
       "dataCadastrado       0\n",
       "deletado             0\n",
       "status               4\n",
       "vin                  0\n",
       "anoFabricacao      231\n",
       "anoModelo          226\n",
       "placa                0\n",
       "marca             3658\n",
       "modelo               0\n",
       "cor                  3\n",
       "descricao         6365\n",
       "tipo                26\n",
       "assistencia          0\n",
       "usuarioCriacao       0\n",
       "proprietarioId       0\n",
       "proprietario         0\n",
       "dtype: int64"
      ]
     },
     "execution_count": 670,
     "metadata": {},
     "output_type": "execute_result"
    }
   ],
   "source": [
    "df_vehicles.drop(drop_list_vehicles, axis=1).isna().sum()"
   ]
  },
  {
   "cell_type": "code",
   "execution_count": 671,
   "metadata": {
    "ExecuteTime": {
     "end_time": "2020-08-02T18:13:06.487088Z",
     "start_time": "2020-08-02T18:13:06.464836Z"
    },
    "hidden": true
   },
   "outputs": [],
   "source": [
    "# Fillout the NaN to any values\n",
    "df_vehicles['status'] = df_vehicles['status'].fillna('Ativado').copy()\n",
    "df_vehicles['anoFabricacao'] = df_vehicles['anoFabricacao'].fillna(0).copy()\n",
    "df_vehicles['anoModelo'] = df_vehicles['anoModelo'].fillna(0).copy()\n",
    "df_vehicles['marca'] = df_vehicles['marca'].fillna(0).copy()\n",
    "df_vehicles['cor'] = df_vehicles['cor'].fillna(0).copy()\n",
    "df_vehicles['descricao'] = df_vehicles['descricao'].fillna('').copy()\n",
    "df_vehicles['tipo'] = df_vehicles['tipo'].fillna('Caminhão').copy()"
   ]
  },
  {
   "cell_type": "markdown",
   "metadata": {
    "heading_collapsed": true,
    "hidden": true
   },
   "source": [
    "#### 1.3.2 - Positions DataFrame"
   ]
  },
  {
   "cell_type": "code",
   "execution_count": 672,
   "metadata": {
    "ExecuteTime": {
     "end_time": "2020-08-02T18:13:07.258949Z",
     "start_time": "2020-08-02T18:13:07.243680Z"
    },
    "hidden": true
   },
   "outputs": [
    {
     "name": "stdout",
     "output_type": "stream",
     "text": [
      "id                      0\n",
      "codigorf             3281\n",
      "odometroGps          3281\n",
      "dataAquisicao        3281\n",
      "distanciaKmFrete     3281\n",
      "kmManual             3281\n",
      "horimetroManual      3281\n",
      "horimetroAtual       3281\n",
      "kmAtual              3281\n",
      "statusVenda          3281\n",
      "dataAtivado          3281\n",
      "dataCadastrado       3281\n",
      "dataCancelado        3281\n",
      "fuso                 3281\n",
      "deletado             3281\n",
      "status               3281\n",
      "finalizado           3281\n",
      "renavam              3281\n",
      "vin                  3281\n",
      "anoFabricacao        3281\n",
      "anoModelo            3281\n",
      "placa                   0\n",
      "dataInstalacao       3281\n",
      "tipoMonitoramento    3281\n",
      "marca                3281\n",
      "modelo               3281\n",
      "cor                  3281\n",
      "descricao            3281\n",
      "frota                3281\n",
      "tipo                 3281\n",
      "assistencia             0\n",
      "usuarioCriacao       3281\n",
      "proprietarioId          0\n",
      "proprietario         3281\n",
      "motoristas              0\n",
      "dispositivos            0\n",
      "grupos                  0\n",
      "dtype: int64\n"
     ]
    }
   ],
   "source": [
    "# See all the columns and check the NaN\n",
    "print(df_positions.isna().sum())"
   ]
  },
  {
   "cell_type": "code",
   "execution_count": 673,
   "metadata": {
    "ExecuteTime": {
     "end_time": "2020-08-02T18:13:07.398260Z",
     "start_time": "2020-08-02T18:13:07.384664Z"
    },
    "hidden": true
   },
   "outputs": [],
   "source": [
    "# list of columns that you will drop from DataFrame because is Null\n",
    "drop_list_positions = [\n",
    "    'codigorf', 'odometroGps', 'dataAquisicao', 'distanciaKmFrete',  \n",
    "    'kmManual', 'horimetroManual', 'horimetroAtual', 'kmAtual',            \n",
    "    'statusVenda', 'dataAtivado', 'dataCadastrado', 'dataCancelado', \n",
    "    'fuso', 'deletado', 'status', 'finalizado', 'renavam',           \n",
    "    'vin', 'anoFabricacao', 'anoModelo', 'dataInstalacao', 'tipoMonitoramento',\n",
    "    'marca', 'modelo', 'cor', 'descricao', 'frota', 'tipo', 'usuarioCriacao',  \n",
    "    'proprietario'\n",
    "]"
   ]
  },
  {
   "cell_type": "markdown",
   "metadata": {
    "heading_collapsed": true,
    "hidden": true
   },
   "source": [
    "### 1.4 - Empty values or Little data inputed"
   ]
  },
  {
   "cell_type": "markdown",
   "metadata": {
    "heading_collapsed": true,
    "hidden": true
   },
   "source": [
    "#### 1.4.1 - Vehicle DataFrame"
   ]
  },
  {
   "cell_type": "code",
   "execution_count": 674,
   "metadata": {
    "ExecuteTime": {
     "end_time": "2020-08-02T18:13:09.182578Z",
     "start_time": "2020-08-02T18:13:09.154716Z"
    },
    "hidden": true
   },
   "outputs": [
    {
     "data": {
      "text/html": [
       "<div>\n",
       "<style scoped>\n",
       "    .dataframe tbody tr th:only-of-type {\n",
       "        vertical-align: middle;\n",
       "    }\n",
       "\n",
       "    .dataframe tbody tr th {\n",
       "        vertical-align: top;\n",
       "    }\n",
       "\n",
       "    .dataframe thead th {\n",
       "        text-align: right;\n",
       "    }\n",
       "</style>\n",
       "<table border=\"1\" class=\"dataframe\">\n",
       "  <thead>\n",
       "    <tr style=\"text-align: right;\">\n",
       "      <th></th>\n",
       "      <th>id</th>\n",
       "      <th>dataCadastrado</th>\n",
       "      <th>deletado</th>\n",
       "      <th>status</th>\n",
       "      <th>vin</th>\n",
       "      <th>anoFabricacao</th>\n",
       "      <th>anoModelo</th>\n",
       "      <th>placa</th>\n",
       "      <th>marca</th>\n",
       "      <th>modelo</th>\n",
       "      <th>cor</th>\n",
       "      <th>descricao</th>\n",
       "      <th>tipo</th>\n",
       "      <th>assistencia</th>\n",
       "      <th>usuarioCriacao</th>\n",
       "      <th>proprietarioId</th>\n",
       "      <th>proprietario</th>\n",
       "    </tr>\n",
       "  </thead>\n",
       "  <tbody>\n",
       "    <tr>\n",
       "      <th>100</th>\n",
       "      <td>194735</td>\n",
       "      <td>1593178460953</td>\n",
       "      <td>False</td>\n",
       "      <td>Ativado</td>\n",
       "      <td>98PTE47MSLB111809</td>\n",
       "      <td>2020.0</td>\n",
       "      <td>2020.0</td>\n",
       "      <td>RDW8H23</td>\n",
       "      <td>DAF</td>\n",
       "      <td></td>\n",
       "      <td>PRATA</td>\n",
       "      <td></td>\n",
       "      <td>Caminhão</td>\n",
       "      <td>False</td>\n",
       "      <td>11426</td>\n",
       "      <td>189587</td>\n",
       "      <td>SCARPRESS COMERCIO DE PAPEIS LTDA</td>\n",
       "    </tr>\n",
       "    <tr>\n",
       "      <th>5856</th>\n",
       "      <td>178859</td>\n",
       "      <td>1585079227470</td>\n",
       "      <td>False</td>\n",
       "      <td>Ativado</td>\n",
       "      <td>9BSR6X40093646492</td>\n",
       "      <td>2009.0</td>\n",
       "      <td>2009.0</td>\n",
       "      <td>MHA2D84</td>\n",
       "      <td>SCANIA VABIS</td>\n",
       "      <td></td>\n",
       "      <td>BRANCO</td>\n",
       "      <td></td>\n",
       "      <td>Caminhão</td>\n",
       "      <td>False</td>\n",
       "      <td>11426</td>\n",
       "      <td>187172</td>\n",
       "      <td>KLISMANN JOSE PENTEADO HUBNER</td>\n",
       "    </tr>\n",
       "    <tr>\n",
       "      <th>7693</th>\n",
       "      <td>111925</td>\n",
       "      <td>1526745861307</td>\n",
       "      <td>False</td>\n",
       "      <td>Ativado</td>\n",
       "      <td>9BVAG40D0EE824439</td>\n",
       "      <td>2014.0</td>\n",
       "      <td>2014.0</td>\n",
       "      <td>AZM9530</td>\n",
       "      <td>VOLVO</td>\n",
       "      <td></td>\n",
       "      <td>PRATA</td>\n",
       "      <td></td>\n",
       "      <td>Caminhão</td>\n",
       "      <td>False</td>\n",
       "      <td>11426</td>\n",
       "      <td>160207</td>\n",
       "      <td>ZAPPELLI MADEREIRAS LTDA - EPP</td>\n",
       "    </tr>\n",
       "  </tbody>\n",
       "</table>\n",
       "</div>"
      ],
      "text/plain": [
       "          id  dataCadastrado  deletado   status                vin  anoFabricacao  anoModelo    placa         marca modelo     cor descricao      tipo  assistencia  usuarioCriacao  proprietarioId                       proprietario\n",
       "100   194735   1593178460953     False  Ativado  98PTE47MSLB111809         2020.0     2020.0  RDW8H23           DAF          PRATA            Caminhão        False           11426          189587  SCARPRESS COMERCIO DE PAPEIS LTDA\n",
       "5856  178859   1585079227470     False  Ativado  9BSR6X40093646492         2009.0     2009.0  MHA2D84  SCANIA VABIS         BRANCO            Caminhão        False           11426          187172      KLISMANN JOSE PENTEADO HUBNER\n",
       "7693  111925   1526745861307     False  Ativado  9BVAG40D0EE824439         2014.0     2014.0  AZM9530         VOLVO          PRATA            Caminhão        False           11426          160207     ZAPPELLI MADEREIRAS LTDA - EPP"
      ]
     },
     "execution_count": 674,
     "metadata": {},
     "output_type": "execute_result"
    }
   ],
   "source": [
    "# DataFrame from vehicles that don't have NaN for all column\n",
    "df_vehicles.drop(drop_list_vehicles, axis=1).sample(3)         # see the columns and structure of dataframe"
   ]
  },
  {
   "cell_type": "code",
   "execution_count": 675,
   "metadata": {
    "ExecuteTime": {
     "end_time": "2020-08-02T18:13:10.266543Z",
     "start_time": "2020-08-02T18:13:10.250639Z"
    },
    "hidden": true
   },
   "outputs": [],
   "source": [
    "# Unique value, you will drop this columns\n",
    "df_vehicles['deletado'].value_counts()\n",
    "df_vehicles['fuso'].value_counts()\n",
    "df_vehicles['tipoMonitoramento'].value_counts()\n",
    "df_vehicles['assistencia'].value_counts()\n",
    "# 'vin', 'usuarioCriacao', 'proprietarioId' -> it's not important columns\n",
    "\n",
    "# Including news columns to will be filtered or drop\n",
    "drop_list_vehicles.extend(['deletado', 'fuso', 'tipoMonitoramento', 'assistencia',\n",
    "                           'vin', 'usuarioCriacao', 'proprietarioId'])"
   ]
  },
  {
   "cell_type": "markdown",
   "metadata": {
    "heading_collapsed": true,
    "hidden": true
   },
   "source": [
    "#### 1.4.2 - Positions DataFrame"
   ]
  },
  {
   "cell_type": "code",
   "execution_count": 676,
   "metadata": {
    "ExecuteTime": {
     "end_time": "2020-08-02T18:13:12.030733Z",
     "start_time": "2020-08-02T18:13:12.009915Z"
    },
    "hidden": true
   },
   "outputs": [
    {
     "data": {
      "text/html": [
       "<div>\n",
       "<style scoped>\n",
       "    .dataframe tbody tr th:only-of-type {\n",
       "        vertical-align: middle;\n",
       "    }\n",
       "\n",
       "    .dataframe tbody tr th {\n",
       "        vertical-align: top;\n",
       "    }\n",
       "\n",
       "    .dataframe thead th {\n",
       "        text-align: right;\n",
       "    }\n",
       "</style>\n",
       "<table border=\"1\" class=\"dataframe\">\n",
       "  <thead>\n",
       "    <tr style=\"text-align: right;\">\n",
       "      <th></th>\n",
       "      <th>id</th>\n",
       "      <th>placa</th>\n",
       "      <th>assistencia</th>\n",
       "      <th>proprietarioId</th>\n",
       "      <th>motoristas</th>\n",
       "      <th>dispositivos</th>\n",
       "      <th>grupos</th>\n",
       "    </tr>\n",
       "  </thead>\n",
       "  <tbody>\n",
       "    <tr>\n",
       "      <th>925</th>\n",
       "      <td>181341</td>\n",
       "      <td>NNB5843</td>\n",
       "      <td>False</td>\n",
       "      <td>196175</td>\n",
       "      <td>[]</td>\n",
       "      <td>[{'id': 285227, 'fabricanteId': 132, 'fabrican...</td>\n",
       "      <td>[]</td>\n",
       "    </tr>\n",
       "    <tr>\n",
       "      <th>2892</th>\n",
       "      <td>175183</td>\n",
       "      <td>MBI8157</td>\n",
       "      <td>False</td>\n",
       "      <td>193025</td>\n",
       "      <td>[]</td>\n",
       "      <td>[{'id': 277568, 'fabricanteId': 132, 'fabrican...</td>\n",
       "      <td>[]</td>\n",
       "    </tr>\n",
       "    <tr>\n",
       "      <th>2494</th>\n",
       "      <td>193213</td>\n",
       "      <td>CUA1309</td>\n",
       "      <td>False</td>\n",
       "      <td>201910</td>\n",
       "      <td>[]</td>\n",
       "      <td>[{'id': 167280, 'fabricanteId': 69, 'fabricant...</td>\n",
       "      <td>[]</td>\n",
       "    </tr>\n",
       "  </tbody>\n",
       "</table>\n",
       "</div>"
      ],
      "text/plain": [
       "          id    placa  assistencia  proprietarioId motoristas                                       dispositivos grupos\n",
       "925   181341  NNB5843        False          196175         []  [{'id': 285227, 'fabricanteId': 132, 'fabrican...     []\n",
       "2892  175183  MBI8157        False          193025         []  [{'id': 277568, 'fabricanteId': 132, 'fabrican...     []\n",
       "2494  193213  CUA1309        False          201910         []  [{'id': 167280, 'fabricanteId': 69, 'fabricant...     []"
      ]
     },
     "execution_count": 676,
     "metadata": {},
     "output_type": "execute_result"
    }
   ],
   "source": [
    "# Dataframe from positions\n",
    "df_positions.drop(drop_list_positions, axis=1).sample(3)       # see the columns and structure of dataframe"
   ]
  },
  {
   "cell_type": "code",
   "execution_count": 677,
   "metadata": {
    "ExecuteTime": {
     "end_time": "2020-08-02T18:13:12.733586Z",
     "start_time": "2020-08-02T18:13:12.707233Z"
    },
    "hidden": true
   },
   "outputs": [
    {
     "name": "stdout",
     "output_type": "stream",
     "text": [
      "False    3281\n",
      "Name: assistencia, dtype: int64\n",
      "[]    3281\n",
      "Name: motoristas, dtype: int64\n",
      "[]    3281\n",
      "Name: grupos, dtype: int64\n"
     ]
    }
   ],
   "source": [
    "# Seeing the columns that has a only one value or a empty list\n",
    "print(df_positions.drop(drop_list_positions, axis=1)['assistencia'].value_counts())\n",
    "print(df_positions.drop(drop_list_positions, axis=1)['motoristas'].value_counts())\n",
    "print(df_positions.drop(drop_list_positions, axis=1)['grupos'].value_counts())\n",
    "# Columns that don't have importance or values\n",
    "    # grupos\n",
    "    # motoristas\n",
    "    # assistencia - there only one information FALSE\n",
    "\n",
    "# adding columns above that not is important or empty in a list\n",
    "drop_list_positions.extend(['grupos', 'assistencia', 'motoristas'])"
   ]
  },
  {
   "cell_type": "markdown",
   "metadata": {
    "heading_collapsed": true,
    "hidden": true
   },
   "source": [
    "### 1.5 - Data Types and Changes"
   ]
  },
  {
   "cell_type": "code",
   "execution_count": 735,
   "metadata": {
    "ExecuteTime": {
     "end_time": "2020-08-02T18:36:21.927233Z",
     "start_time": "2020-08-02T18:36:21.906671Z"
    },
    "hidden": true
   },
   "outputs": [],
   "source": [
    "df_veh_sel = df_vehicles.drop(drop_list_vehicles, axis=1).copy()\n",
    "df_pos_sel = df_positions.drop(drop_list_positions, axis=1).copy()"
   ]
  },
  {
   "cell_type": "markdown",
   "metadata": {
    "heading_collapsed": true,
    "hidden": true
   },
   "source": [
    "#### 1.5.1 - Vehicle DataFrame"
   ]
  },
  {
   "cell_type": "code",
   "execution_count": 736,
   "metadata": {
    "ExecuteTime": {
     "end_time": "2020-08-02T18:36:22.955867Z",
     "start_time": "2020-08-02T18:36:22.931624Z"
    },
    "hidden": true
   },
   "outputs": [
    {
     "name": "stdout",
     "output_type": "stream",
     "text": [
      "<class 'pandas.core.frame.DataFrame'>\n",
      "RangeIndex: 9842 entries, 0 to 9841\n",
      "Data columns (total 12 columns):\n",
      " #   Column          Non-Null Count  Dtype  \n",
      "---  ------          --------------  -----  \n",
      " 0   id              9842 non-null   int64  \n",
      " 1   dataCadastrado  9842 non-null   int64  \n",
      " 2   status          9842 non-null   object \n",
      " 3   anoFabricacao   9842 non-null   float64\n",
      " 4   anoModelo       9842 non-null   float64\n",
      " 5   placa           9842 non-null   object \n",
      " 6   marca           9842 non-null   object \n",
      " 7   modelo          9842 non-null   object \n",
      " 8   cor             9842 non-null   object \n",
      " 9   descricao       9842 non-null   object \n",
      " 10  tipo            9842 non-null   object \n",
      " 11  proprietario    9842 non-null   object \n",
      "dtypes: float64(2), int64(2), object(8)\n",
      "memory usage: 922.8+ KB\n"
     ]
    }
   ],
   "source": [
    "df_veh_sel.info()"
   ]
  },
  {
   "cell_type": "code",
   "execution_count": 737,
   "metadata": {
    "ExecuteTime": {
     "end_time": "2020-08-02T18:36:23.480934Z",
     "start_time": "2020-08-02T18:36:23.457608Z"
    },
    "hidden": true
   },
   "outputs": [
    {
     "data": {
      "text/html": [
       "<div>\n",
       "<style scoped>\n",
       "    .dataframe tbody tr th:only-of-type {\n",
       "        vertical-align: middle;\n",
       "    }\n",
       "\n",
       "    .dataframe tbody tr th {\n",
       "        vertical-align: top;\n",
       "    }\n",
       "\n",
       "    .dataframe thead th {\n",
       "        text-align: right;\n",
       "    }\n",
       "</style>\n",
       "<table border=\"1\" class=\"dataframe\">\n",
       "  <thead>\n",
       "    <tr style=\"text-align: right;\">\n",
       "      <th></th>\n",
       "      <th>id</th>\n",
       "      <th>dataCadastrado</th>\n",
       "      <th>status</th>\n",
       "      <th>anoFabricacao</th>\n",
       "      <th>anoModelo</th>\n",
       "      <th>placa</th>\n",
       "      <th>marca</th>\n",
       "      <th>modelo</th>\n",
       "      <th>cor</th>\n",
       "      <th>descricao</th>\n",
       "      <th>tipo</th>\n",
       "      <th>proprietario</th>\n",
       "    </tr>\n",
       "  </thead>\n",
       "  <tbody>\n",
       "    <tr>\n",
       "      <th>6082</th>\n",
       "      <td>139628</td>\n",
       "      <td>1555536607247</td>\n",
       "      <td>Ativado</td>\n",
       "      <td>2000.0</td>\n",
       "      <td>2000.0</td>\n",
       "      <td>AVP2018</td>\n",
       "      <td>MERCEDES BENZ</td>\n",
       "      <td></td>\n",
       "      <td>BRANCO</td>\n",
       "      <td></td>\n",
       "      <td>Caminhão</td>\n",
       "      <td>EBERSON LUIZ ZAMBONI</td>\n",
       "    </tr>\n",
       "    <tr>\n",
       "      <th>8781</th>\n",
       "      <td>172548</td>\n",
       "      <td>1579965486659</td>\n",
       "      <td>Ativado</td>\n",
       "      <td>2004.0</td>\n",
       "      <td>2004.0</td>\n",
       "      <td>MDA0F30</td>\n",
       "      <td>MERCEDES BENZ</td>\n",
       "      <td></td>\n",
       "      <td>VERMELHO</td>\n",
       "      <td></td>\n",
       "      <td>Caminhão</td>\n",
       "      <td>RAUAN ERZINGER DE OLIVEIRA</td>\n",
       "    </tr>\n",
       "    <tr>\n",
       "      <th>416</th>\n",
       "      <td>197084</td>\n",
       "      <td>1595104784305</td>\n",
       "      <td>Ativado</td>\n",
       "      <td>2020.0</td>\n",
       "      <td>2020.0</td>\n",
       "      <td>EWF0540</td>\n",
       "      <td>VOLVO</td>\n",
       "      <td></td>\n",
       "      <td>PRATA</td>\n",
       "      <td></td>\n",
       "      <td>Caminhão</td>\n",
       "      <td>OURITRANS TRANSPORTE E LOGISTICA</td>\n",
       "    </tr>\n",
       "  </tbody>\n",
       "</table>\n",
       "</div>"
      ],
      "text/plain": [
       "          id  dataCadastrado   status  anoFabricacao  anoModelo    placa          marca modelo       cor descricao      tipo                      proprietario\n",
       "6082  139628   1555536607247  Ativado         2000.0     2000.0  AVP2018  MERCEDES BENZ           BRANCO            Caminhão              EBERSON LUIZ ZAMBONI\n",
       "8781  172548   1579965486659  Ativado         2004.0     2004.0  MDA0F30  MERCEDES BENZ         VERMELHO            Caminhão        RAUAN ERZINGER DE OLIVEIRA\n",
       "416   197084   1595104784305  Ativado         2020.0     2020.0  EWF0540          VOLVO            PRATA            Caminhão  OURITRANS TRANSPORTE E LOGISTICA"
      ]
     },
     "execution_count": 737,
     "metadata": {},
     "output_type": "execute_result"
    }
   ],
   "source": [
    "# as you can see above, there are some datatypes wrong, let's see to understand it\n",
    "df_veh_sel.sample(3)"
   ]
  },
  {
   "cell_type": "code",
   "execution_count": 738,
   "metadata": {
    "ExecuteTime": {
     "end_time": "2020-08-02T18:36:24.266929Z",
     "start_time": "2020-08-02T18:36:24.241426Z"
    },
    "hidden": true
   },
   "outputs": [],
   "source": [
    "# dataCadastro  -> it's a milisseconds data from 1970 ultil datastamp, you need change to undertandble simple date\n",
    "# AnoFabricacao -> It's float you will convert to int\n",
    "# AnoModelo     -> It's float you will convert to int\n",
    "\n",
    "# converting float to int and replace NaN to 0\n",
    "df_veh_sel['anoFabricacao'] = df_veh_sel['anoFabricacao'].astype(int64).copy()\n",
    "df_veh_sel['anoModelo'] = df_veh_sel['anoModelo'].astype(int64).copy()\n",
    "df_veh_sel['dataCadastrado'] = df_veh_sel['dataCadastrado'].apply(\n",
    "    lambda x: datetime.datetime.fromtimestamp(x/1000).date()).copy()"
   ]
  },
  {
   "cell_type": "markdown",
   "metadata": {
    "heading_collapsed": true,
    "hidden": true
   },
   "source": [
    "#### 1.5.2 - Positions DataFrame"
   ]
  },
  {
   "cell_type": "code",
   "execution_count": 739,
   "metadata": {
    "ExecuteTime": {
     "end_time": "2020-08-02T18:36:24.868991Z",
     "start_time": "2020-08-02T18:36:24.859101Z"
    },
    "hidden": true
   },
   "outputs": [
    {
     "name": "stdout",
     "output_type": "stream",
     "text": [
      "<class 'pandas.core.frame.DataFrame'>\n",
      "RangeIndex: 3281 entries, 0 to 3280\n",
      "Data columns (total 4 columns):\n",
      " #   Column          Non-Null Count  Dtype \n",
      "---  ------          --------------  ----- \n",
      " 0   id              3281 non-null   int64 \n",
      " 1   placa           3281 non-null   object\n",
      " 2   proprietarioId  3281 non-null   int64 \n",
      " 3   dispositivos    3281 non-null   object\n",
      "dtypes: int64(2), object(2)\n",
      "memory usage: 102.7+ KB\n"
     ]
    }
   ],
   "source": [
    "df_pos_sel.info()"
   ]
  },
  {
   "cell_type": "code",
   "execution_count": 740,
   "metadata": {
    "ExecuteTime": {
     "end_time": "2020-08-02T18:36:25.435741Z",
     "start_time": "2020-08-02T18:36:25.417359Z"
    },
    "hidden": true
   },
   "outputs": [
    {
     "data": {
      "text/html": [
       "<div>\n",
       "<style scoped>\n",
       "    .dataframe tbody tr th:only-of-type {\n",
       "        vertical-align: middle;\n",
       "    }\n",
       "\n",
       "    .dataframe tbody tr th {\n",
       "        vertical-align: top;\n",
       "    }\n",
       "\n",
       "    .dataframe thead th {\n",
       "        text-align: right;\n",
       "    }\n",
       "</style>\n",
       "<table border=\"1\" class=\"dataframe\">\n",
       "  <thead>\n",
       "    <tr style=\"text-align: right;\">\n",
       "      <th></th>\n",
       "      <th>id</th>\n",
       "      <th>placa</th>\n",
       "      <th>proprietarioId</th>\n",
       "      <th>dispositivos</th>\n",
       "    </tr>\n",
       "  </thead>\n",
       "  <tbody>\n",
       "    <tr>\n",
       "      <th>1721</th>\n",
       "      <td>114111</td>\n",
       "      <td>HRO7446</td>\n",
       "      <td>164103</td>\n",
       "      <td>[{'id': 75399, 'fabricanteId': 2, 'fabricante'...</td>\n",
       "    </tr>\n",
       "    <tr>\n",
       "      <th>958</th>\n",
       "      <td>121670</td>\n",
       "      <td>MLQ9174</td>\n",
       "      <td>167189</td>\n",
       "      <td>[{'id': 284919, 'fabricanteId': 132, 'fabrican...</td>\n",
       "    </tr>\n",
       "    <tr>\n",
       "      <th>172</th>\n",
       "      <td>197125</td>\n",
       "      <td>8834487</td>\n",
       "      <td>167522</td>\n",
       "      <td>[{'id': 291582, 'fabricanteId': 3, 'fabricante...</td>\n",
       "    </tr>\n",
       "  </tbody>\n",
       "</table>\n",
       "</div>"
      ],
      "text/plain": [
       "          id    placa  proprietarioId                                       dispositivos\n",
       "1721  114111  HRO7446          164103  [{'id': 75399, 'fabricanteId': 2, 'fabricante'...\n",
       "958   121670  MLQ9174          167189  [{'id': 284919, 'fabricanteId': 132, 'fabrican...\n",
       "172   197125  8834487          167522  [{'id': 291582, 'fabricanteId': 3, 'fabricante..."
      ]
     },
     "execution_count": 740,
     "metadata": {},
     "output_type": "execute_result"
    }
   ],
   "source": [
    "df_pos_sel.sample(3)"
   ]
  },
  {
   "cell_type": "markdown",
   "metadata": {
    "hidden": true
   },
   "source": [
    "Neste caso manteremos id e dispositivos"
   ]
  },
  {
   "cell_type": "code",
   "execution_count": 741,
   "metadata": {
    "ExecuteTime": {
     "end_time": "2020-08-02T18:36:26.722670Z",
     "start_time": "2020-08-02T18:36:26.708789Z"
    },
    "hidden": true
   },
   "outputs": [
    {
     "data": {
      "text/html": [
       "<div>\n",
       "<style scoped>\n",
       "    .dataframe tbody tr th:only-of-type {\n",
       "        vertical-align: middle;\n",
       "    }\n",
       "\n",
       "    .dataframe tbody tr th {\n",
       "        vertical-align: top;\n",
       "    }\n",
       "\n",
       "    .dataframe thead th {\n",
       "        text-align: right;\n",
       "    }\n",
       "</style>\n",
       "<table border=\"1\" class=\"dataframe\">\n",
       "  <thead>\n",
       "    <tr style=\"text-align: right;\">\n",
       "      <th></th>\n",
       "      <th>id</th>\n",
       "      <th>placa</th>\n",
       "      <th>proprietarioId</th>\n",
       "      <th>dispositivos</th>\n",
       "    </tr>\n",
       "  </thead>\n",
       "  <tbody>\n",
       "    <tr>\n",
       "      <th>236</th>\n",
       "      <td>162352</td>\n",
       "      <td>AWR2954</td>\n",
       "      <td>187649</td>\n",
       "      <td>[{'id': 261754, 'fabricanteId': 132, 'fabrican...</td>\n",
       "    </tr>\n",
       "    <tr>\n",
       "      <th>2691</th>\n",
       "      <td>159169</td>\n",
       "      <td>BDK9G75</td>\n",
       "      <td>158744</td>\n",
       "      <td>[{'id': 259082, 'fabricanteId': 132, 'fabrican...</td>\n",
       "    </tr>\n",
       "    <tr>\n",
       "      <th>638</th>\n",
       "      <td>161568</td>\n",
       "      <td>MIU2738</td>\n",
       "      <td>160904</td>\n",
       "      <td>[{'id': 260430, 'fabricanteId': 132, 'fabrican...</td>\n",
       "    </tr>\n",
       "  </tbody>\n",
       "</table>\n",
       "</div>"
      ],
      "text/plain": [
       "          id    placa  proprietarioId                                       dispositivos\n",
       "236   162352  AWR2954          187649  [{'id': 261754, 'fabricanteId': 132, 'fabrican...\n",
       "2691  159169  BDK9G75          158744  [{'id': 259082, 'fabricanteId': 132, 'fabrican...\n",
       "638   161568  MIU2738          160904  [{'id': 260430, 'fabricanteId': 132, 'fabrican..."
      ]
     },
     "execution_count": 741,
     "metadata": {},
     "output_type": "execute_result"
    }
   ],
   "source": [
    "df_pos_sel.sample(3)"
   ]
  },
  {
   "cell_type": "markdown",
   "metadata": {
    "hidden": true
   },
   "source": [
    "There are in a [dispositivos] columns like a list and inside the list have a dict, we will keep [numeroStr] and [posicoes]"
   ]
  },
  {
   "cell_type": "markdown",
   "metadata": {
    "hidden": true
   },
   "source": [
    "Get the numeroStr in the first inside the list and put on dataframe"
   ]
  },
  {
   "cell_type": "code",
   "execution_count": 742,
   "metadata": {
    "ExecuteTime": {
     "end_time": "2020-08-02T18:36:28.591688Z",
     "start_time": "2020-08-02T18:36:28.576627Z"
    },
    "hidden": true
   },
   "outputs": [],
   "source": [
    "# numeroStr\n",
    "df_pos_sel['numeroStr'] = df_pos_sel['dispositivos'].apply(lambda x: x[0]['numeroStr'])\n",
    "df_pos_sel.head(3)\n",
    "\n",
    "# posicoes\n",
    "df_pos_sel['posicoes'] = pd.DataFrame(df_pos_sel['dispositivos'].apply(lambda x: x[0]['posicoes']))"
   ]
  },
  {
   "cell_type": "markdown",
   "metadata": {
    "hidden": true
   },
   "source": [
    "Coping the list in column [posicoes] and transforme in dataFrame to get the max() value than get the others values from the list that have the max.\n",
    "\n",
    "Inside the posicoes you get the ['sequencia', 'dataEquipamento', 'latitude', 'longitude', 'endereco', 'numerostr'], because it's important columns, if the posicoes has empty insert 0 all the columns and concat, after that concat to original df"
   ]
  },
  {
   "cell_type": "code",
   "execution_count": 743,
   "metadata": {
    "ExecuteTime": {
     "end_time": "2020-08-02T18:36:48.472601Z",
     "start_time": "2020-08-02T18:36:30.045066Z"
    },
    "hidden": true
   },
   "outputs": [],
   "source": [
    "df_pos = pd.DataFrame()\n",
    "for i in df_pos_sel['posicoes']:\n",
    "    try:\n",
    "        df = pd.DataFrame(i)[['sequencia', 'dataEquipamento', 'latitude', 'longitude', 'endereco', 'numerostr']]\n",
    "        df = df[df['sequencia'] == df['sequencia'].max()][0:1]\n",
    "        df_pos = pd.concat([df_pos, df], axis=0, ignore_index=True)\n",
    "    except KeyError:\n",
    "        df = pd.DataFrame([['0', '0', '0', '0', '0', '0']], columns=['sequencia', \n",
    "                'dataEquipamento', 'latitude', 'longitude', 'endereco', 'numerostr'])\n",
    "        df_pos = pd.concat([df_pos, df])"
   ]
  },
  {
   "cell_type": "code",
   "execution_count": 744,
   "metadata": {
    "ExecuteTime": {
     "end_time": "2020-08-02T18:36:48.493804Z",
     "start_time": "2020-08-02T18:36:48.474107Z"
    },
    "hidden": true
   },
   "outputs": [],
   "source": [
    "# Concat the filtered dataframe and original dataframe and dropped the columns that not is more important\n",
    "df_pos_sel = pd.concat([df_pos_sel, df_pos], axis=1).drop(['dispositivos',\n",
    "    'posicoes', 'numerostr', 'proprietarioId', 'numeroStr', 'sequencia'], axis=1)"
   ]
  },
  {
   "cell_type": "code",
   "execution_count": 745,
   "metadata": {
    "ExecuteTime": {
     "end_time": "2020-08-02T18:36:48.650966Z",
     "start_time": "2020-08-02T18:36:48.497620Z"
    },
    "hidden": true
   },
   "outputs": [
    {
     "data": {
      "text/plain": [
       "((3281, 6), (3281, 6))"
      ]
     },
     "execution_count": 745,
     "metadata": {},
     "output_type": "execute_result"
    }
   ],
   "source": [
    "# It's ok the shape is equal\n",
    "df_pos.shape, df_pos_sel.shape"
   ]
  },
  {
   "cell_type": "code",
   "execution_count": 748,
   "metadata": {
    "ExecuteTime": {
     "end_time": "2020-08-02T18:37:58.445425Z",
     "start_time": "2020-08-02T18:37:58.430790Z"
    },
    "hidden": true
   },
   "outputs": [],
   "source": [
    "# dataEquipamento -> let's change to date and after to string\n",
    "df_pos_sel['dataEquipamento'] = df_pos_sel['dataEquipamento'].astype(int64).copy()\n",
    "df_pos_sel['dataEquipamento'] = df_pos_sel['dataEquipamento'].apply(\n",
    "    lambda x: datetime.datetime.fromtimestamp(x/1000).date()).copy()"
   ]
  },
  {
   "cell_type": "code",
   "execution_count": 751,
   "metadata": {
    "ExecuteTime": {
     "end_time": "2020-08-02T18:40:54.822125Z",
     "start_time": "2020-08-02T18:40:54.811784Z"
    },
    "hidden": true
   },
   "outputs": [],
   "source": [
    "df_pos_sel['latitude'] = df_pos_sel['latitude'].astype(float).copy()\n",
    "df_pos_sel['longitude'] = df_pos_sel['longitude'].astype(float).copy()"
   ]
  },
  {
   "cell_type": "code",
   "execution_count": 752,
   "metadata": {
    "ExecuteTime": {
     "end_time": "2020-08-02T18:40:55.414925Z",
     "start_time": "2020-08-02T18:40:55.403407Z"
    },
    "hidden": true
   },
   "outputs": [
    {
     "data": {
      "text/html": [
       "<div>\n",
       "<style scoped>\n",
       "    .dataframe tbody tr th:only-of-type {\n",
       "        vertical-align: middle;\n",
       "    }\n",
       "\n",
       "    .dataframe tbody tr th {\n",
       "        vertical-align: top;\n",
       "    }\n",
       "\n",
       "    .dataframe thead th {\n",
       "        text-align: right;\n",
       "    }\n",
       "</style>\n",
       "<table border=\"1\" class=\"dataframe\">\n",
       "  <thead>\n",
       "    <tr style=\"text-align: right;\">\n",
       "      <th></th>\n",
       "      <th>id</th>\n",
       "      <th>placa</th>\n",
       "      <th>dataEquipamento</th>\n",
       "      <th>latitude</th>\n",
       "      <th>longitude</th>\n",
       "      <th>endereco</th>\n",
       "    </tr>\n",
       "  </thead>\n",
       "  <tbody>\n",
       "    <tr>\n",
       "      <th>2034</th>\n",
       "      <td>140694</td>\n",
       "      <td>ABT3885</td>\n",
       "      <td>2020-07-27</td>\n",
       "      <td>-23.056046</td>\n",
       "      <td>-51.051708</td>\n",
       "      <td>Rod Pr-323 - 0 A 0, Sertanopolis, PR</td>\n",
       "    </tr>\n",
       "    <tr>\n",
       "      <th>2877</th>\n",
       "      <td>193846</td>\n",
       "      <td>AWW5F78</td>\n",
       "      <td>2020-07-27</td>\n",
       "      <td>-24.328857</td>\n",
       "      <td>-53.856663</td>\n",
       "      <td>Avenida Ariosvaldo Bitencourt - Palotina - Pr,</td>\n",
       "    </tr>\n",
       "    <tr>\n",
       "      <th>662</th>\n",
       "      <td>158103</td>\n",
       "      <td>OHN7927</td>\n",
       "      <td>2020-07-27</td>\n",
       "      <td>-8.799563</td>\n",
       "      <td>-63.697407</td>\n",
       "      <td>Br-364 - Candeias Do Jamari - Ro - 76860-000 -...</td>\n",
       "    </tr>\n",
       "  </tbody>\n",
       "</table>\n",
       "</div>"
      ],
      "text/plain": [
       "          id    placa dataEquipamento   latitude  longitude                                           endereco\n",
       "2034  140694  ABT3885      2020-07-27 -23.056046 -51.051708               Rod Pr-323 - 0 A 0, Sertanopolis, PR\n",
       "2877  193846  AWW5F78      2020-07-27 -24.328857 -53.856663    Avenida Ariosvaldo Bitencourt - Palotina - Pr, \n",
       "662   158103  OHN7927      2020-07-27  -8.799563 -63.697407  Br-364 - Candeias Do Jamari - Ro - 76860-000 -..."
      ]
     },
     "execution_count": 752,
     "metadata": {},
     "output_type": "execute_result"
    }
   ],
   "source": [
    "df_pos_sel.sample(3)"
   ]
  },
  {
   "cell_type": "code",
   "execution_count": 753,
   "metadata": {
    "ExecuteTime": {
     "end_time": "2020-08-02T18:42:57.032469Z",
     "start_time": "2020-08-02T18:42:57.020655Z"
    },
    "hidden": true
   },
   "outputs": [
    {
     "name": "stdout",
     "output_type": "stream",
     "text": [
      "<class 'pandas.core.frame.DataFrame'>\n",
      "RangeIndex: 3281 entries, 0 to 3280\n",
      "Data columns (total 6 columns):\n",
      " #   Column           Non-Null Count  Dtype  \n",
      "---  ------           --------------  -----  \n",
      " 0   id               3281 non-null   int64  \n",
      " 1   placa            3281 non-null   object \n",
      " 2   dataEquipamento  3281 non-null   object \n",
      " 3   latitude         3281 non-null   float64\n",
      " 4   longitude        3281 non-null   float64\n",
      " 5   endereco         3281 non-null   object \n",
      "dtypes: float64(2), int64(1), object(3)\n",
      "memory usage: 153.9+ KB\n"
     ]
    }
   ],
   "source": [
    "df_pos_sel.info()"
   ]
  },
  {
   "cell_type": "markdown",
   "metadata": {
    "heading_collapsed": true
   },
   "source": [
    "## 2.0 - Insert Database"
   ]
  },
  {
   "cell_type": "markdown",
   "metadata": {
    "heading_collapsed": true,
    "hidden": true
   },
   "source": [
    "### 2.1 - Connection DataBase"
   ]
  },
  {
   "cell_type": "markdown",
   "metadata": {
    "hidden": true
   },
   "source": [
    "This action mean that you create a connection with a existent database or create a new if not exist\n",
    "It's keep the connection like a cursor than with this variable you use to send command like a insert, delete, update, etc."
   ]
  },
  {
   "cell_type": "code",
   "execution_count": 756,
   "metadata": {
    "ExecuteTime": {
     "end_time": "2020-08-02T18:46:41.868545Z",
     "start_time": "2020-08-02T18:46:41.862461Z"
    },
    "hidden": true
   },
   "outputs": [],
   "source": [
    "# Create connection to create_database and table\n",
    "conn = sqlite3.connect(\"tracker.db\")\n",
    "cursor = conn.cursor()\n",
    "\n",
    "# Create engine \"connection\" from API sqlalchemy to insertion data\n",
    "engine = create_engine('sqlite:////home/python/PycharmProjects/Projects/tracker/tracker.db', echo=False)"
   ]
  },
  {
   "cell_type": "markdown",
   "metadata": {
    "heading_collapsed": true,
    "hidden": true
   },
   "source": [
    "### 2.2 - Create Table"
   ]
  },
  {
   "cell_type": "markdown",
   "metadata": {
    "hidden": true
   },
   "source": [
    "Criar tabelas manualmente \n",
    "pensar  em fazer o relacionamento entre id das duas tabelas"
   ]
  },
  {
   "cell_type": "code",
   "execution_count": 757,
   "metadata": {
    "ExecuteTime": {
     "end_time": "2020-08-02T18:46:57.127698Z",
     "start_time": "2020-08-02T18:46:56.848670Z"
    },
    "hidden": true
   },
   "outputs": [],
   "source": [
    "query_vehicles = '''CREATE TABLE IF NOT EXISTS vehicles (\n",
    "            id INTEGER, dataCadastrado TEXT, status TEXT,\n",
    "            anoFabricacao INTEGER, anoModelo INTEGER, placa TEXT,\n",
    "            marca TEXT, modelo TEXT, cor TEXT, descricao TEXT, tipo TEXT,\n",
    "            proprietario TEXT)\n",
    "            '''\n",
    "create_table(cursor, query_vehicles)\n",
    "\n",
    "\n",
    "query_positions = '''CREATE TABLE IF NOT EXISTS positions (\n",
    "            id INTEGER, placa TEXT, dataEquipamento, latitude REAL,\n",
    "            longitude REAL, endereco TEXT)\n",
    "            '''\n",
    "\n",
    "create_table(cursor, query_positions)"
   ]
  },
  {
   "cell_type": "markdown",
   "metadata": {
    "heading_collapsed": true,
    "hidden": true
   },
   "source": [
    "### 2.3 - Insertion DataBase"
   ]
  },
  {
   "cell_type": "code",
   "execution_count": 759,
   "metadata": {
    "ExecuteTime": {
     "end_time": "2020-08-02T18:49:08.320256Z",
     "start_time": "2020-08-02T18:49:08.045170Z"
    },
    "hidden": true,
    "scrolled": true
   },
   "outputs": [],
   "source": [
    "# Run the insertion if is not exists table, else, show the error, remember, \n",
    "# the sequence of columns must to be equal by table, else, the information \n",
    "# will be change and replaced the wrong place.\n",
    "df_veh_sel.to_sql('vehicles', con=engine, if_exists='append', index=False)\n",
    "df_pos_sel.to_sql('positions', con=engine, if_exists='append', index=False)"
   ]
  },
  {
   "cell_type": "code",
   "execution_count": null,
   "metadata": {
    "hidden": true
   },
   "outputs": [],
   "source": [
    "# Each positions insertion have 340Kb == 0.340MB \n",
    "# If you have insertion each 30 minutos, you will have 16.4MB/day == 490MB/month"
   ]
  },
  {
   "cell_type": "markdown",
   "metadata": {
    "heading_collapsed": true,
    "hidden": true
   },
   "source": [
    "### 2.2 - DataBase Select Query"
   ]
  },
  {
   "cell_type": "code",
   "execution_count": 769,
   "metadata": {
    "ExecuteTime": {
     "end_time": "2020-08-02T18:57:50.268766Z",
     "start_time": "2020-08-02T18:57:50.226170Z"
    },
    "hidden": true
   },
   "outputs": [],
   "source": [
    "select_cur = pd.DataFrame(cursor.execute(\n",
    "            'select * from positions').fetchall(), columns=df_pos_sel.columns)"
   ]
  },
  {
   "cell_type": "code",
   "execution_count": 770,
   "metadata": {
    "ExecuteTime": {
     "end_time": "2020-08-02T18:57:55.973817Z",
     "start_time": "2020-08-02T18:57:55.958282Z"
    },
    "hidden": true
   },
   "outputs": [
    {
     "data": {
      "text/html": [
       "<div>\n",
       "<style scoped>\n",
       "    .dataframe tbody tr th:only-of-type {\n",
       "        vertical-align: middle;\n",
       "    }\n",
       "\n",
       "    .dataframe tbody tr th {\n",
       "        vertical-align: top;\n",
       "    }\n",
       "\n",
       "    .dataframe thead th {\n",
       "        text-align: right;\n",
       "    }\n",
       "</style>\n",
       "<table border=\"1\" class=\"dataframe\">\n",
       "  <thead>\n",
       "    <tr style=\"text-align: right;\">\n",
       "      <th></th>\n",
       "      <th>id</th>\n",
       "      <th>placa</th>\n",
       "      <th>dataEquipamento</th>\n",
       "      <th>latitude</th>\n",
       "      <th>longitude</th>\n",
       "      <th>endereco</th>\n",
       "    </tr>\n",
       "  </thead>\n",
       "  <tbody>\n",
       "    <tr>\n",
       "      <th>0</th>\n",
       "      <td>195043</td>\n",
       "      <td>ATA3G29</td>\n",
       "      <td>2020-07-27</td>\n",
       "      <td>-26.405037</td>\n",
       "      <td>-48.838470</td>\n",
       "      <td>279682131|rodovia governador mario covas - joi...</td>\n",
       "    </tr>\n",
       "    <tr>\n",
       "      <th>1</th>\n",
       "      <td>197262</td>\n",
       "      <td>ISR1B33</td>\n",
       "      <td>2020-07-27</td>\n",
       "      <td>-12.724856</td>\n",
       "      <td>-60.221588</td>\n",
       "      <td>Br-364 - Vilhena - Ro - 76980-000 - Brazil,</td>\n",
       "    </tr>\n",
       "    <tr>\n",
       "      <th>2</th>\n",
       "      <td>194648</td>\n",
       "      <td>NPL6536</td>\n",
       "      <td>2020-07-27</td>\n",
       "      <td>-23.452412</td>\n",
       "      <td>-52.004280</td>\n",
       "      <td>410016849|r pion. victorio marcon - 835 a 1096...</td>\n",
       "    </tr>\n",
       "    <tr>\n",
       "      <th>3</th>\n",
       "      <td>194650</td>\n",
       "      <td>BZG1771</td>\n",
       "      <td>2020-07-27</td>\n",
       "      <td>-25.389692</td>\n",
       "      <td>-49.188614</td>\n",
       "      <td>Rod Br-116 - 0 A 0, Colombo, PR</td>\n",
       "    </tr>\n",
       "    <tr>\n",
       "      <th>4</th>\n",
       "      <td>194385</td>\n",
       "      <td>MFS9832</td>\n",
       "      <td>2020-07-27</td>\n",
       "      <td>-26.370670</td>\n",
       "      <td>-48.705605</td>\n",
       "      <td>Rua Dos Barrancos - Araquari - Sc,</td>\n",
       "    </tr>\n",
       "    <tr>\n",
       "      <th>...</th>\n",
       "      <td>...</td>\n",
       "      <td>...</td>\n",
       "      <td>...</td>\n",
       "      <td>...</td>\n",
       "      <td>...</td>\n",
       "      <td>...</td>\n",
       "    </tr>\n",
       "    <tr>\n",
       "      <th>6557</th>\n",
       "      <td>170441</td>\n",
       "      <td>ATD2508</td>\n",
       "      <td>2020-07-27</td>\n",
       "      <td>-25.452236</td>\n",
       "      <td>-49.737392</td>\n",
       "      <td>Rodovia Do Cafe Governador Ney Braga - Balsa N...</td>\n",
       "    </tr>\n",
       "    <tr>\n",
       "      <th>6558</th>\n",
       "      <td>166619</td>\n",
       "      <td>DSC5531</td>\n",
       "      <td>2020-07-26</td>\n",
       "      <td>-23.947304</td>\n",
       "      <td>-46.289642</td>\n",
       "      <td>Avenida Engenheiro Silvio Fernandes Lopes - Gu...</td>\n",
       "    </tr>\n",
       "    <tr>\n",
       "      <th>6559</th>\n",
       "      <td>112941</td>\n",
       "      <td>BAV0960</td>\n",
       "      <td>2020-07-27</td>\n",
       "      <td>-9.931942</td>\n",
       "      <td>-54.903809</td>\n",
       "      <td>Br-163 - Guaranta Do Norte - Mt - 78520-000 - ...</td>\n",
       "    </tr>\n",
       "    <tr>\n",
       "      <th>6560</th>\n",
       "      <td>101468</td>\n",
       "      <td>HJC1450</td>\n",
       "      <td>2020-07-27</td>\n",
       "      <td>-11.905506</td>\n",
       "      <td>-55.510269</td>\n",
       "      <td>Estr. Dalva - Sinop - Mt - Brazil,</td>\n",
       "    </tr>\n",
       "    <tr>\n",
       "      <th>6561</th>\n",
       "      <td>101468</td>\n",
       "      <td>HJC1450</td>\n",
       "      <td>2020-07-27</td>\n",
       "      <td>-11.905506</td>\n",
       "      <td>-55.510269</td>\n",
       "      <td>Estr. Dalva - Sinop - Mt - Brazil,</td>\n",
       "    </tr>\n",
       "  </tbody>\n",
       "</table>\n",
       "<p>6562 rows × 6 columns</p>\n",
       "</div>"
      ],
      "text/plain": [
       "          id    placa dataEquipamento   latitude  longitude                                           endereco\n",
       "0     195043  ATA3G29      2020-07-27 -26.405037 -48.838470  279682131|rodovia governador mario covas - joi...\n",
       "1     197262  ISR1B33      2020-07-27 -12.724856 -60.221588       Br-364 - Vilhena - Ro - 76980-000 - Brazil, \n",
       "2     194648  NPL6536      2020-07-27 -23.452412 -52.004280  410016849|r pion. victorio marcon - 835 a 1096...\n",
       "3     194650  BZG1771      2020-07-27 -25.389692 -49.188614                    Rod Br-116 - 0 A 0, Colombo, PR\n",
       "4     194385  MFS9832      2020-07-27 -26.370670 -48.705605                Rua Dos Barrancos - Araquari - Sc, \n",
       "...      ...      ...             ...        ...        ...                                                ...\n",
       "6557  170441  ATD2508      2020-07-27 -25.452236 -49.737392  Rodovia Do Cafe Governador Ney Braga - Balsa N...\n",
       "6558  166619  DSC5531      2020-07-26 -23.947304 -46.289642  Avenida Engenheiro Silvio Fernandes Lopes - Gu...\n",
       "6559  112941  BAV0960      2020-07-27  -9.931942 -54.903809  Br-163 - Guaranta Do Norte - Mt - 78520-000 - ...\n",
       "6560  101468  HJC1450      2020-07-27 -11.905506 -55.510269                Estr. Dalva - Sinop - Mt - Brazil, \n",
       "6561  101468  HJC1450      2020-07-27 -11.905506 -55.510269                Estr. Dalva - Sinop - Mt - Brazil, \n",
       "\n",
       "[6562 rows x 6 columns]"
      ]
     },
     "execution_count": 770,
     "metadata": {},
     "output_type": "execute_result"
    }
   ],
   "source": [
    "select_cur"
   ]
  },
  {
   "cell_type": "markdown",
   "metadata": {},
   "source": [
    "## 3.0 - API Request"
   ]
  },
  {
   "cell_type": "code",
   "execution_count": 29,
   "metadata": {
    "ExecuteTime": {
     "end_time": "2020-07-27T16:54:49.453228Z",
     "start_time": "2020-07-27T16:54:49.447125Z"
    }
   },
   "outputs": [],
   "source": [
    "# API to request data from users"
   ]
  }
 ],
 "metadata": {
  "kernelspec": {
   "display_name": "Python 3.8.2 64-bit ('venv': venv)",
   "language": "python",
   "name": "python38264bitvenvvenvfa7db62e9bdc492d9d301c0d8fab1962"
  },
  "language_info": {
   "codemirror_mode": {
    "name": "ipython",
    "version": 3
   },
   "file_extension": ".py",
   "mimetype": "text/x-python",
   "name": "python",
   "nbconvert_exporter": "python",
   "pygments_lexer": "ipython3",
   "version": "3.8.2"
  }
 },
 "nbformat": 4,
 "nbformat_minor": 2
}
