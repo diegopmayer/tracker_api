{
 "cells": [
  {
   "cell_type": "markdown",
   "metadata": {},
   "source": [
    "# Tracker Requests Positions from Vehicles"
   ]
  },
  {
   "cell_type": "markdown",
   "metadata": {
    "heading_collapsed": true
   },
   "source": [
    "## 0.0 - Imports"
   ]
  },
  {
   "cell_type": "code",
   "execution_count": 139,
   "metadata": {
    "ExecuteTime": {
     "end_time": "2020-08-03T21:31:01.036987Z",
     "start_time": "2020-08-03T21:31:01.033037Z"
    },
    "hidden": true
   },
   "outputs": [],
   "source": [
    "import pandas as pd \n",
    "from requests import post \n",
    "import json, pickle\n",
    "\n",
    "import sqlite3      # to create database\n",
    "import sqlite_utils # to insert, update and delete information\n",
    "from sqlalchemy import create_engine\n",
    "\n",
    "from IPython.core.display import HTML\n",
    "import matplotlib.pyplot as plt\n",
    "import seaborn as sns\n",
    "\n",
    "import streamlit as st\n",
    "\n",
    "# pandas to transform data and convert to dataframe\n",
    "# requests.post to invite data to serverless and the serverless response with object\n",
    "# json to convert data to json or vice versa"
   ]
  },
  {
   "cell_type": "markdown",
   "metadata": {
    "heading_collapsed": true,
    "hidden": true
   },
   "source": [
    "### 0.1 - Helper Functions"
   ]
  },
  {
   "cell_type": "code",
   "execution_count": 140,
   "metadata": {
    "ExecuteTime": {
     "end_time": "2020-08-03T21:31:01.231229Z",
     "start_time": "2020-08-03T21:31:01.039930Z"
    },
    "hidden": true
   },
   "outputs": [
    {
     "name": "stdout",
     "output_type": "stream",
     "text": [
      "Populating the interactive namespace from numpy and matplotlib\n"
     ]
    },
    {
     "data": {
      "text/html": [
       "<style>.container{width:100% !important;}</style>"
      ],
      "text/plain": [
       "<IPython.core.display.HTML object>"
      ]
     },
     "metadata": {},
     "output_type": "display_data"
    }
   ],
   "source": [
    "    \n",
    "def create_table(cursor, query):\n",
    "    \n",
    "    ''' Create table with SQLAlchemy from DataFrame object'''\n",
    "    \n",
    "    cursor.execute(query)\n",
    "\n",
    "\n",
    "def jupyter_settings():\n",
    "    \n",
    "    \n",
    "    %matplotlib inline\n",
    "    %pylab inline\n",
    "    \n",
    "    plt.style.use('bmh')\n",
    "    plt.rcParams['figure.figsize'] = [25,12]\n",
    "    plt.rcParams['font.size'] = 24\n",
    "    \n",
    "    display(HTML('<style>.container{width:100% !important;}</style>'))\n",
    "    pd.options.display.max_columns = None\n",
    "    pd.options.display.max_rows = 100\n",
    "    pd.set_option('display.expand_frame_repr', False)\n",
    "\n",
    "    sns.set()\n",
    "jupyter_settings()\n",
    "\n",
    "\n",
    "# Function to get user data and exported to pickle file.\n",
    "# I deleted data inputed for security, it was only function to now how you done.\n",
    "def user_logon():\n",
    "    \n",
    "    \n",
    "    ''' Store the data to Authentication from integration Tracker\n",
    "        url_logon: url to Authentication and get token\n",
    "        url_veiculos: Url to load vehicles informations\n",
    "        url_posicao: Url to load positions informations\n",
    "        headers: Type of send headers this case is json\n",
    "        handshake: Data to authentication from integration\n",
    "                post (informations that you must send like handshake)\n",
    "                    username: username account to access grid tracker\n",
    "                    password: password account to access grid tracker\n",
    "                    appid: Id delivered from Tracker\n",
    "                response (informations that you receive after logon)\n",
    "                    token: the alfanumeric code that it's must be send post\n",
    "                    expiration: There aren't expiration '''\n",
    "    \n",
    "    url_logon = 'http://'\n",
    "    url_veiculos = 'http://'\n",
    "    url_posicao = 'http://'\n",
    "    headers = {\"content-type\":\"application/json\"}\n",
    "    handshake = {'username':'', 'password':'', 'appid':'', 'token':'', 'expriration':''}\n",
    "    \n",
    "    return url_logon, url_veiculos, url_posicao, headers, handshake"
   ]
  },
  {
   "cell_type": "markdown",
   "metadata": {
    "hidden": true
   },
   "source": [
    "### 0.2 - Requests Data Collect"
   ]
  },
  {
   "cell_type": "markdown",
   "metadata": {
    "hidden": true
   },
   "source": [
    "Requests API from Tracker, with method Post, see the <a href=\"\">documentation</a>"
   ]
  },
  {
   "cell_type": "markdown",
   "metadata": {
    "heading_collapsed": true,
    "hidden": true
   },
   "source": [
    "#### 0.2.1 - User Authentication"
   ]
  },
  {
   "cell_type": "code",
   "execution_count": 141,
   "metadata": {
    "ExecuteTime": {
     "end_time": "2020-08-03T21:31:01.310296Z",
     "start_time": "2020-08-03T21:31:01.233720Z"
    },
    "hidden": true
   },
   "outputs": [],
   "source": [
    "# Dumping object with data authentication to pickle format\n",
    "# with open(\"user_logon.pkl\", \"wb\") as file:\n",
    "#    pickle.dump(user_logon(), file)\n",
    "\n",
    "\n",
    "# Loading data from pickle file content user data to connection authentication\n",
    "with open(\"user_logon.pkl\", \"rb\") as f_load:\n",
    "    url_logon, url_vehicles, url_position, headers, handshake = pickle.load(f_load)"
   ]
  },
  {
   "cell_type": "markdown",
   "metadata": {
    "hidden": true
   },
   "source": [
    "Token"
   ]
  },
  {
   "cell_type": "code",
   "execution_count": 142,
   "metadata": {
    "ExecuteTime": {
     "end_time": "2020-08-03T21:31:03.044516Z",
     "start_time": "2020-08-03T21:31:01.313589Z"
    },
    "hidden": true
   },
   "outputs": [],
   "source": [
    "# send data and return object to store token\n",
    "# without token can't access the vehicle\n",
    "response_logon = post(url_logon,\n",
    "                        data=json.dumps(handshake),\n",
    "                        headers=headers) # response array object\n",
    "token = {\"token\":response_logon.json()['object']\n",
    "        ['token']} # store token form object"
   ]
  },
  {
   "cell_type": "markdown",
   "metadata": {
    "heading_collapsed": true,
    "hidden": true
   },
   "source": [
    "#### 0.2.2 - Vehicles"
   ]
  },
  {
   "cell_type": "code",
   "execution_count": 143,
   "metadata": {
    "ExecuteTime": {
     "end_time": "2020-08-03T21:31:03.055569Z",
     "start_time": "2020-08-03T21:31:03.047771Z"
    },
    "hidden": true
   },
   "outputs": [
    {
     "data": {
      "text/plain": [
       "'\\nresponse_vehicles = post(url_vehicles, headers=token)\\nobj_vehicle = response_vehicles.json() # transform obj array to json\\n'"
      ]
     },
     "execution_count": 143,
     "metadata": {},
     "output_type": "execute_result"
    }
   ],
   "source": [
    "# Requests to get vehicle informations\n",
    "\n",
    "response_vehicles = post(url_vehicles, headers=token)\n",
    "obj_vehicle = response_vehicles.json() # transform obj array to json\n"
   ]
  },
  {
   "cell_type": "code",
   "execution_count": 144,
   "metadata": {
    "ExecuteTime": {
     "end_time": "2020-08-03T21:31:03.250960Z",
     "start_time": "2020-08-03T21:31:03.061576Z"
    },
    "hidden": true
   },
   "outputs": [
    {
     "data": {
      "text/plain": [
       "\"obj_vehicle_df = pd.DataFrame(obj_vehicle['object']).copy()\""
      ]
     },
     "execution_count": 144,
     "metadata": {},
     "output_type": "execute_result"
    }
   ],
   "source": [
    "# Save json file in the local folder\n",
    "# this only for development mode, after validation, it's better maker a \n",
    "# function to store object without saving\n",
    "#with open('collected_2020061810.json', 'w') as json_file:\n",
    "#    json.dump(obj_veiculo, json_file)\n",
    "\n",
    "# Transforming Json to DataFrame\n",
    "obj_vehicle_df = pd.DataFrame(obj_vehicle['object']).copy()"
   ]
  },
  {
   "cell_type": "code",
   "execution_count": 145,
   "metadata": {
    "ExecuteTime": {
     "end_time": "2020-08-03T21:31:03.327910Z",
     "start_time": "2020-08-03T21:31:03.262961Z"
    },
    "hidden": true
   },
   "outputs": [
    {
     "data": {
      "text/plain": [
       "'\\n# Drop List to delete columns that it\\'s not necessary for while\\ndrop_list = \"\"\"\\n    codigorf          \\n    odometroGps        \\n    dataAquisicao \\n    distanciaKmFrete\\n    kmManual\\n    horimetroManual\\n    horimetroAtual\\n    kmAtual\\n    statusVenda\\n    dataAtivado\\n    dataCancelado\\n    finalizado\\n    renavam\\n    dataInstalacao\\n    motoristas\\n    dispositivos\\n    grupos\\n    \"\"\".split()\\ndf_vehicles = obj_vehicle_df.drop(drop_list, axis=1).copy()\\n'"
      ]
     },
     "execution_count": 145,
     "metadata": {},
     "output_type": "execute_result"
    }
   ],
   "source": [
    "'''\n",
    "# Drop List to delete columns that it's not necessary for while\n",
    "drop_list = \"\"\"\n",
    "    codigorf          \n",
    "    odometroGps        \n",
    "    dataAquisicao \n",
    "    distanciaKmFrete\n",
    "    kmManual\n",
    "    horimetroManual\n",
    "    horimetroAtual\n",
    "    kmAtual\n",
    "    statusVenda\n",
    "    dataAtivado\n",
    "    dataCancelado\n",
    "    finalizado\n",
    "    renavam\n",
    "    dataInstalacao\n",
    "    motoristas\n",
    "    dispositivos\n",
    "    grupos\n",
    "    \"\"\".split()\n",
    "df_vehicles = obj_vehicle_df.drop(drop_list, axis=1).copy()\n",
    "'''"
   ]
  },
  {
   "cell_type": "markdown",
   "metadata": {
    "heading_collapsed": true,
    "hidden": true
   },
   "source": [
    "#### 0.2.3 - Positions"
   ]
  },
  {
   "cell_type": "code",
   "execution_count": 146,
   "metadata": {
    "ExecuteTime": {
     "end_time": "2020-08-03T21:31:53.053803Z",
     "start_time": "2020-08-03T21:31:03.344676Z"
    },
    "hidden": true
   },
   "outputs": [],
   "source": [
    "# Requests to get vehicle positions\n",
    "response_position = post(url_position, headers=token)\n",
    "obj_position = response_position.json()"
   ]
  },
  {
   "cell_type": "code",
   "execution_count": 147,
   "metadata": {
    "ExecuteTime": {
     "end_time": "2020-08-03T21:31:53.111881Z",
     "start_time": "2020-08-03T21:31:53.055862Z"
    },
    "hidden": true
   },
   "outputs": [],
   "source": [
    "# Transforming Json to DataFrame\n",
    "df_positions = pd.DataFrame(obj_position['object']).copy()"
   ]
  },
  {
   "cell_type": "markdown",
   "metadata": {
    "hidden": true
   },
   "source": [
    "<h3>Resumo em Português</h3>\n",
    "<p>realizado o request com método post para a api da tracker no post contém as informações de envio; o tipo de dados \"json\" os dados do usuário(user, senha, id) e retornado um objecto com as informações e enviadas e mais um objeto com as informações do token, sem o token não é possível fazer a requisição, com isso na requisição para veiculos é enviado o token para que deem acesso aos dados, então retornado um objeto array com os dados dos veiculos, porém mais da metade dos campos(colunas) estão vazias(nulas), com isso uma das informações mais importantes que é o posicionamento do veiculo estão nulas, invalidando o projeto, tem outra url de para requisição que é para pegar especificadamente o posicionamento, porém, retornado vazio também, será comunicado ao responsável técnico da tracker para correção ou permissão da mesma.(20/06/2020)</p>"
   ]
  },
  {
   "cell_type": "markdown",
   "metadata": {
    "heading_collapsed": true,
    "hidden": true
   },
   "source": [
    "#### 0.2.4 - Pickle loading to tests"
   ]
  },
  {
   "cell_type": "code",
   "execution_count": 148,
   "metadata": {
    "ExecuteTime": {
     "end_time": "2020-08-03T21:31:54.933454Z",
     "start_time": "2020-08-03T21:31:53.115508Z"
    },
    "hidden": true
   },
   "outputs": [],
   "source": [
    "#with open(\"df_vehicles.pkl\", \"rb\") as file:\n",
    "#    df_vehicles = pickle.load(file)\n",
    "#\n",
    "#with open(\"df_positions.pkl\", \"rb\") as file:\n",
    "#    df_positions = pickle.load(file)"
   ]
  },
  {
   "cell_type": "markdown",
   "metadata": {
    "heading_collapsed": true
   },
   "source": [
    "## 1.0 - Data Description"
   ]
  },
  {
   "cell_type": "markdown",
   "metadata": {
    "heading_collapsed": true,
    "hidden": true
   },
   "source": [
    "### 1.1 - Rename Columns"
   ]
  },
  {
   "cell_type": "markdown",
   "metadata": {
    "hidden": true
   },
   "source": [
    "### 1.2 - Data Dimention"
   ]
  },
  {
   "cell_type": "code",
   "execution_count": 149,
   "metadata": {
    "ExecuteTime": {
     "end_time": "2020-08-03T21:31:56.344824Z",
     "start_time": "2020-08-03T21:31:54.935811Z"
    },
    "hidden": true
   },
   "outputs": [
    {
     "data": {
      "text/plain": [
       "((9955, 20), (2830, 37))"
      ]
     },
     "execution_count": 149,
     "metadata": {},
     "output_type": "execute_result"
    }
   ],
   "source": [
    "df_vehicles.shape, df_positions.shape"
   ]
  },
  {
   "cell_type": "markdown",
   "metadata": {
    "heading_collapsed": true,
    "hidden": true
   },
   "source": [
    "### 1.3 - Check NaN and Fillout"
   ]
  },
  {
   "cell_type": "markdown",
   "metadata": {
    "heading_collapsed": true,
    "hidden": true
   },
   "source": [
    "#### 1.3.1 - Vehicle DataFrame"
   ]
  },
  {
   "cell_type": "code",
   "execution_count": 150,
   "metadata": {
    "ExecuteTime": {
     "end_time": "2020-08-03T21:31:57.701773Z",
     "start_time": "2020-08-03T21:31:56.350847Z"
    },
    "hidden": true
   },
   "outputs": [
    {
     "name": "stdout",
     "output_type": "stream",
     "text": [
      "id                      0\n",
      "dataCadastrado          0\n",
      "fuso                 8241\n",
      "deletado                0\n",
      "status                  0\n",
      "vin                     0\n",
      "anoFabricacao           0\n",
      "anoModelo               0\n",
      "placa                   0\n",
      "tipoMonitoramento    6106\n",
      "marca                   0\n",
      "modelo                  0\n",
      "cor                     0\n",
      "descricao               0\n",
      "frota                9345\n",
      "tipo                    0\n",
      "assistencia             0\n",
      "usuarioCriacao          0\n",
      "proprietarioId          0\n",
      "proprietario            0\n",
      "dtype: int64\n"
     ]
    }
   ],
   "source": [
    "# See all the columns and check the NaN\n",
    "print(df_vehicles.isna().sum())"
   ]
  },
  {
   "cell_type": "code",
   "execution_count": 151,
   "metadata": {
    "ExecuteTime": {
     "end_time": "2020-08-03T21:31:58.474187Z",
     "start_time": "2020-08-03T21:31:57.705929Z"
    },
    "hidden": true
   },
   "outputs": [],
   "source": [
    "# list of columns that you will drop from DataFrame because is Null\n",
    "drop_list_vehicles = [\n",
    "    'fuso', 'tipoMonitoramento', 'frota'\n",
    "]"
   ]
  },
  {
   "cell_type": "code",
   "execution_count": 152,
   "metadata": {
    "ExecuteTime": {
     "end_time": "2020-08-03T21:31:58.585758Z",
     "start_time": "2020-08-03T21:31:58.477062Z"
    },
    "hidden": true
   },
   "outputs": [
    {
     "data": {
      "text/plain": [
       "id                0\n",
       "dataCadastrado    0\n",
       "deletado          0\n",
       "status            0\n",
       "vin               0\n",
       "anoFabricacao     0\n",
       "anoModelo         0\n",
       "placa             0\n",
       "marca             0\n",
       "modelo            0\n",
       "cor               0\n",
       "descricao         0\n",
       "tipo              0\n",
       "assistencia       0\n",
       "usuarioCriacao    0\n",
       "proprietarioId    0\n",
       "proprietario      0\n",
       "dtype: int64"
      ]
     },
     "execution_count": 152,
     "metadata": {},
     "output_type": "execute_result"
    }
   ],
   "source": [
    "df_vehicles.drop(drop_list_vehicles, axis=1).isna().sum()"
   ]
  },
  {
   "cell_type": "code",
   "execution_count": 153,
   "metadata": {
    "ExecuteTime": {
     "end_time": "2020-08-03T21:31:58.661700Z",
     "start_time": "2020-08-03T21:31:58.588361Z"
    },
    "hidden": true
   },
   "outputs": [],
   "source": [
    "# Fillout the NaN to any values\n",
    "df_vehicles['status'] = df_vehicles['status'].fillna('Ativado').copy()\n",
    "df_vehicles['anoFabricacao'] = df_vehicles['anoFabricacao'].fillna(0).copy()\n",
    "df_vehicles['anoModelo'] = df_vehicles['anoModelo'].fillna(0).copy()\n",
    "df_vehicles['marca'] = df_vehicles['marca'].fillna(0).copy()\n",
    "df_vehicles['cor'] = df_vehicles['cor'].fillna(0).copy()\n",
    "df_vehicles['descricao'] = df_vehicles['descricao'].fillna('').copy()\n",
    "df_vehicles['tipo'] = df_vehicles['tipo'].fillna('Caminhão').copy()"
   ]
  },
  {
   "cell_type": "markdown",
   "metadata": {
    "heading_collapsed": true,
    "hidden": true
   },
   "source": [
    "#### 1.3.2 - Positions DataFrame"
   ]
  },
  {
   "cell_type": "code",
   "execution_count": 154,
   "metadata": {
    "ExecuteTime": {
     "end_time": "2020-08-03T21:31:58.733643Z",
     "start_time": "2020-08-03T21:31:58.663297Z"
    },
    "hidden": true
   },
   "outputs": [
    {
     "name": "stdout",
     "output_type": "stream",
     "text": [
      "id                      0\n",
      "codigorf             2830\n",
      "odometroGps          2830\n",
      "dataAquisicao        2830\n",
      "distanciaKmFrete     2830\n",
      "kmManual             2830\n",
      "horimetroManual      2830\n",
      "horimetroAtual       2830\n",
      "kmAtual              2830\n",
      "statusVenda          2830\n",
      "dataAtivado          2830\n",
      "dataCadastrado       2830\n",
      "dataCancelado        2830\n",
      "fuso                 2830\n",
      "deletado             2830\n",
      "status               2830\n",
      "finalizado           2830\n",
      "renavam              2830\n",
      "vin                  2830\n",
      "anoFabricacao        2830\n",
      "anoModelo            2830\n",
      "placa                   0\n",
      "dataInstalacao       2830\n",
      "tipoMonitoramento    2830\n",
      "marca                2830\n",
      "modelo               2830\n",
      "cor                  2830\n",
      "descricao            2830\n",
      "frota                2830\n",
      "tipo                 2830\n",
      "assistencia             0\n",
      "usuarioCriacao       2830\n",
      "proprietarioId          0\n",
      "proprietario         2830\n",
      "motoristas              0\n",
      "dispositivos            0\n",
      "grupos                  0\n",
      "dtype: int64\n"
     ]
    }
   ],
   "source": [
    "# See all the columns and check the NaN\n",
    "print(df_positions.isna().sum())"
   ]
  },
  {
   "cell_type": "code",
   "execution_count": 155,
   "metadata": {
    "ExecuteTime": {
     "end_time": "2020-08-03T21:31:58.797919Z",
     "start_time": "2020-08-03T21:31:58.740073Z"
    },
    "hidden": true
   },
   "outputs": [],
   "source": [
    "# list of columns that you will drop from DataFrame because is Null\n",
    "drop_list_positions = [\n",
    "    'codigorf', 'odometroGps', 'dataAquisicao', 'distanciaKmFrete',  \n",
    "    'kmManual', 'horimetroManual', 'horimetroAtual', 'kmAtual',            \n",
    "    'statusVenda', 'dataAtivado', 'dataCadastrado', 'dataCancelado', \n",
    "    'fuso', 'deletado', 'status', 'finalizado', 'renavam',           \n",
    "    'vin', 'anoFabricacao', 'anoModelo', 'dataInstalacao', 'tipoMonitoramento',\n",
    "    'marca', 'modelo', 'cor', 'descricao', 'frota', 'tipo', 'usuarioCriacao',  \n",
    "    'proprietario'\n",
    "]"
   ]
  },
  {
   "cell_type": "markdown",
   "metadata": {
    "heading_collapsed": true,
    "hidden": true
   },
   "source": [
    "### 1.4 - Empty values or Little data inputed"
   ]
  },
  {
   "cell_type": "markdown",
   "metadata": {
    "heading_collapsed": true,
    "hidden": true
   },
   "source": [
    "#### 1.4.1 - Vehicle DataFrame"
   ]
  },
  {
   "cell_type": "code",
   "execution_count": 156,
   "metadata": {
    "ExecuteTime": {
     "end_time": "2020-08-03T21:31:58.888672Z",
     "start_time": "2020-08-03T21:31:58.802460Z"
    },
    "hidden": true
   },
   "outputs": [
    {
     "data": {
      "text/html": [
       "<div>\n",
       "<style scoped>\n",
       "    .dataframe tbody tr th:only-of-type {\n",
       "        vertical-align: middle;\n",
       "    }\n",
       "\n",
       "    .dataframe tbody tr th {\n",
       "        vertical-align: top;\n",
       "    }\n",
       "\n",
       "    .dataframe thead th {\n",
       "        text-align: right;\n",
       "    }\n",
       "</style>\n",
       "<table border=\"1\" class=\"dataframe\">\n",
       "  <thead>\n",
       "    <tr style=\"text-align: right;\">\n",
       "      <th></th>\n",
       "      <th>id</th>\n",
       "      <th>dataCadastrado</th>\n",
       "      <th>deletado</th>\n",
       "      <th>status</th>\n",
       "      <th>vin</th>\n",
       "      <th>anoFabricacao</th>\n",
       "      <th>anoModelo</th>\n",
       "      <th>placa</th>\n",
       "      <th>marca</th>\n",
       "      <th>modelo</th>\n",
       "      <th>cor</th>\n",
       "      <th>descricao</th>\n",
       "      <th>tipo</th>\n",
       "      <th>assistencia</th>\n",
       "      <th>usuarioCriacao</th>\n",
       "      <th>proprietarioId</th>\n",
       "      <th>proprietario</th>\n",
       "    </tr>\n",
       "  </thead>\n",
       "  <tbody>\n",
       "    <tr>\n",
       "      <th>809</th>\n",
       "      <td>180519</td>\n",
       "      <td>1587659091672</td>\n",
       "      <td>False</td>\n",
       "      <td>Ativado</td>\n",
       "      <td>9BVN4B5AOYE668947</td>\n",
       "      <td>2000.0</td>\n",
       "      <td>2000.0</td>\n",
       "      <td>AIS1982</td>\n",
       "      <td>0</td>\n",
       "      <td></td>\n",
       "      <td>VERMELHO</td>\n",
       "      <td>INTEGRADOR - 04.07.2020 - INADIMPLENTE CONFORM...</td>\n",
       "      <td>Caminhão</td>\n",
       "      <td>False</td>\n",
       "      <td>11426</td>\n",
       "      <td>195696</td>\n",
       "      <td>CLAUDIO RODRIGUES LEMOS</td>\n",
       "    </tr>\n",
       "    <tr>\n",
       "      <th>6085</th>\n",
       "      <td>126064</td>\n",
       "      <td>1542127558961</td>\n",
       "      <td>False</td>\n",
       "      <td>Ativado</td>\n",
       "      <td>9BFYCEHV3ABB59990</td>\n",
       "      <td>2010.0</td>\n",
       "      <td>2010.0</td>\n",
       "      <td>ASW9523</td>\n",
       "      <td>0</td>\n",
       "      <td></td>\n",
       "      <td>VERMELHO</td>\n",
       "      <td>DANILO JESUS - 05/04/2019 - STATUS ALTERADO PA...</td>\n",
       "      <td>Caminhão</td>\n",
       "      <td>False</td>\n",
       "      <td>11426</td>\n",
       "      <td>169335</td>\n",
       "      <td>LUIZ FELIPE RAMALHO</td>\n",
       "    </tr>\n",
       "    <tr>\n",
       "      <th>5895</th>\n",
       "      <td>113473</td>\n",
       "      <td>1529002550685</td>\n",
       "      <td>False</td>\n",
       "      <td>Ativado</td>\n",
       "      <td>9BSR4X2A0X3513083</td>\n",
       "      <td>2007.0</td>\n",
       "      <td>2007.0</td>\n",
       "      <td>AJA2852</td>\n",
       "      <td>0</td>\n",
       "      <td></td>\n",
       "      <td>BRANCO</td>\n",
       "      <td>ANA - 08-05-19 INADIMPLENTE  CONFORME EMAIL DA...</td>\n",
       "      <td>Caminhão</td>\n",
       "      <td>False</td>\n",
       "      <td>11426</td>\n",
       "      <td>163880</td>\n",
       "      <td>EDEMAR SAMPAIO</td>\n",
       "    </tr>\n",
       "  </tbody>\n",
       "</table>\n",
       "</div>"
      ],
      "text/plain": [
       "          id  dataCadastrado  deletado   status                vin  anoFabricacao  anoModelo    placa marca modelo       cor                                          descricao      tipo  assistencia  usuarioCriacao  proprietarioId             proprietario\n",
       "809   180519   1587659091672     False  Ativado  9BVN4B5AOYE668947         2000.0     2000.0  AIS1982     0         VERMELHO  INTEGRADOR - 04.07.2020 - INADIMPLENTE CONFORM...  Caminhão        False           11426          195696  CLAUDIO RODRIGUES LEMOS\n",
       "6085  126064   1542127558961     False  Ativado  9BFYCEHV3ABB59990         2010.0     2010.0  ASW9523     0         VERMELHO  DANILO JESUS - 05/04/2019 - STATUS ALTERADO PA...  Caminhão        False           11426          169335      LUIZ FELIPE RAMALHO\n",
       "5895  113473   1529002550685     False  Ativado  9BSR4X2A0X3513083         2007.0     2007.0  AJA2852     0           BRANCO  ANA - 08-05-19 INADIMPLENTE  CONFORME EMAIL DA...  Caminhão        False           11426          163880           EDEMAR SAMPAIO"
      ]
     },
     "execution_count": 156,
     "metadata": {},
     "output_type": "execute_result"
    }
   ],
   "source": [
    "# DataFrame from vehicles that don't have NaN for all column\n",
    "df_vehicles.drop(drop_list_vehicles, axis=1).sample(3)         # see the columns and structure of dataframe"
   ]
  },
  {
   "cell_type": "code",
   "execution_count": 157,
   "metadata": {
    "ExecuteTime": {
     "end_time": "2020-08-03T21:31:58.956451Z",
     "start_time": "2020-08-03T21:31:58.893347Z"
    },
    "hidden": true
   },
   "outputs": [],
   "source": [
    "# Unique value, you will drop this columns\n",
    "df_vehicles['deletado'].value_counts()\n",
    "df_vehicles['fuso'].value_counts()\n",
    "df_vehicles['tipoMonitoramento'].value_counts()\n",
    "df_vehicles['assistencia'].value_counts()\n",
    "# 'vin', 'usuarioCriacao', 'proprietarioId' -> it's not important columns\n",
    "\n",
    "# Including news columns to will be filtered or drop\n",
    "drop_list_vehicles.extend(['deletado', 'fuso', 'tipoMonitoramento', 'assistencia',\n",
    "                           'vin', 'usuarioCriacao', 'proprietarioId'])"
   ]
  },
  {
   "cell_type": "markdown",
   "metadata": {
    "heading_collapsed": true,
    "hidden": true
   },
   "source": [
    "#### 1.4.2 - Positions DataFrame"
   ]
  },
  {
   "cell_type": "code",
   "execution_count": 158,
   "metadata": {
    "ExecuteTime": {
     "end_time": "2020-08-03T21:31:59.079681Z",
     "start_time": "2020-08-03T21:31:58.958372Z"
    },
    "hidden": true
   },
   "outputs": [
    {
     "data": {
      "text/html": [
       "<div>\n",
       "<style scoped>\n",
       "    .dataframe tbody tr th:only-of-type {\n",
       "        vertical-align: middle;\n",
       "    }\n",
       "\n",
       "    .dataframe tbody tr th {\n",
       "        vertical-align: top;\n",
       "    }\n",
       "\n",
       "    .dataframe thead th {\n",
       "        text-align: right;\n",
       "    }\n",
       "</style>\n",
       "<table border=\"1\" class=\"dataframe\">\n",
       "  <thead>\n",
       "    <tr style=\"text-align: right;\">\n",
       "      <th></th>\n",
       "      <th>id</th>\n",
       "      <th>placa</th>\n",
       "      <th>assistencia</th>\n",
       "      <th>proprietarioId</th>\n",
       "      <th>motoristas</th>\n",
       "      <th>dispositivos</th>\n",
       "      <th>grupos</th>\n",
       "    </tr>\n",
       "  </thead>\n",
       "  <tbody>\n",
       "    <tr>\n",
       "      <th>2067</th>\n",
       "      <td>161028</td>\n",
       "      <td>ASD2240</td>\n",
       "      <td>False</td>\n",
       "      <td>188830</td>\n",
       "      <td>[]</td>\n",
       "      <td>[{'id': 265775, 'fabricanteId': 132, 'fabrican...</td>\n",
       "      <td>[]</td>\n",
       "    </tr>\n",
       "    <tr>\n",
       "      <th>999</th>\n",
       "      <td>179668</td>\n",
       "      <td>ETG3782</td>\n",
       "      <td>False</td>\n",
       "      <td>195279</td>\n",
       "      <td>[]</td>\n",
       "      <td>[{'id': 283078, 'fabricanteId': 132, 'fabrican...</td>\n",
       "      <td>[]</td>\n",
       "    </tr>\n",
       "    <tr>\n",
       "      <th>1936</th>\n",
       "      <td>179061</td>\n",
       "      <td>AXT1142</td>\n",
       "      <td>False</td>\n",
       "      <td>194930</td>\n",
       "      <td>[]</td>\n",
       "      <td>[{'id': 282242, 'fabricanteId': 132, 'fabrican...</td>\n",
       "      <td>[]</td>\n",
       "    </tr>\n",
       "  </tbody>\n",
       "</table>\n",
       "</div>"
      ],
      "text/plain": [
       "          id    placa  assistencia  proprietarioId motoristas                                       dispositivos grupos\n",
       "2067  161028  ASD2240        False          188830         []  [{'id': 265775, 'fabricanteId': 132, 'fabrican...     []\n",
       "999   179668  ETG3782        False          195279         []  [{'id': 283078, 'fabricanteId': 132, 'fabrican...     []\n",
       "1936  179061  AXT1142        False          194930         []  [{'id': 282242, 'fabricanteId': 132, 'fabrican...     []"
      ]
     },
     "execution_count": 158,
     "metadata": {},
     "output_type": "execute_result"
    }
   ],
   "source": [
    "# Dataframe from positions\n",
    "df_positions.drop(drop_list_positions, axis=1).sample(3)       # see the columns and structure of dataframe"
   ]
  },
  {
   "cell_type": "code",
   "execution_count": 159,
   "metadata": {
    "ExecuteTime": {
     "end_time": "2020-08-03T21:31:59.185891Z",
     "start_time": "2020-08-03T21:31:59.082149Z"
    },
    "hidden": true
   },
   "outputs": [
    {
     "name": "stdout",
     "output_type": "stream",
     "text": [
      "False    2830\n",
      "Name: assistencia, dtype: int64\n",
      "[]    2830\n",
      "Name: motoristas, dtype: int64\n",
      "[]    2830\n",
      "Name: grupos, dtype: int64\n"
     ]
    }
   ],
   "source": [
    "# Seeing the columns that has a only one value or a empty list\n",
    "print(df_positions.drop(drop_list_positions, axis=1)['assistencia'].value_counts())\n",
    "print(df_positions.drop(drop_list_positions, axis=1)['motoristas'].value_counts())\n",
    "print(df_positions.drop(drop_list_positions, axis=1)['grupos'].value_counts())\n",
    "# Columns that don't have importance or values\n",
    "    # grupos\n",
    "    # motoristas\n",
    "    # assistencia - there only one information FALSE\n",
    "\n",
    "# adding columns above that not is important or empty in a list\n",
    "drop_list_positions.extend(['grupos', 'assistencia', 'motoristas'])"
   ]
  },
  {
   "cell_type": "markdown",
   "metadata": {
    "heading_collapsed": true,
    "hidden": true
   },
   "source": [
    "### 1.5 - Data Types and Changes"
   ]
  },
  {
   "cell_type": "code",
   "execution_count": 160,
   "metadata": {
    "ExecuteTime": {
     "end_time": "2020-08-03T21:31:59.274618Z",
     "start_time": "2020-08-03T21:31:59.188878Z"
    },
    "hidden": true
   },
   "outputs": [],
   "source": [
    "# df_veh_sel = df_vehicles.drop(drop_list_vehicles, axis=1).copy()\n",
    "df_pos_sel = df_positions.drop(drop_list_positions, axis=1).copy()"
   ]
  },
  {
   "cell_type": "markdown",
   "metadata": {
    "heading_collapsed": true,
    "hidden": true
   },
   "source": [
    "#### 1.5.1 - Vehicle DataFrame"
   ]
  },
  {
   "cell_type": "code",
   "execution_count": 161,
   "metadata": {
    "ExecuteTime": {
     "end_time": "2020-08-03T21:31:59.377807Z",
     "start_time": "2020-08-03T21:31:59.280070Z"
    },
    "hidden": true
   },
   "outputs": [
    {
     "ename": "NameError",
     "evalue": "name 'df_veh_sel' is not defined",
     "output_type": "error",
     "traceback": [
      "\u001b[0;31m---------------------------------------------------------------------------\u001b[0m",
      "\u001b[0;31mNameError\u001b[0m                                 Traceback (most recent call last)",
      "\u001b[0;32m<ipython-input-161-324a52129bfa>\u001b[0m in \u001b[0;36m<module>\u001b[0;34m\u001b[0m\n\u001b[0;32m----> 1\u001b[0;31m \u001b[0mdf_veh_sel\u001b[0m\u001b[0;34m.\u001b[0m\u001b[0minfo\u001b[0m\u001b[0;34m(\u001b[0m\u001b[0;34m)\u001b[0m\u001b[0;34m\u001b[0m\u001b[0;34m\u001b[0m\u001b[0m\n\u001b[0m",
      "\u001b[0;31mNameError\u001b[0m: name 'df_veh_sel' is not defined"
     ]
    }
   ],
   "source": [
    "df_veh_sel.info()"
   ]
  },
  {
   "cell_type": "code",
   "execution_count": null,
   "metadata": {
    "ExecuteTime": {
     "end_time": "2020-08-03T21:31:59.381226Z",
     "start_time": "2020-08-03T21:31:01.111Z"
    },
    "hidden": true
   },
   "outputs": [],
   "source": [
    "# as you can see above, there are some datatypes wrong, let's see to understand it\n",
    "df_veh_sel.sample(3)"
   ]
  },
  {
   "cell_type": "code",
   "execution_count": null,
   "metadata": {
    "ExecuteTime": {
     "end_time": "2020-08-03T21:31:59.383634Z",
     "start_time": "2020-08-03T21:31:01.114Z"
    },
    "hidden": true
   },
   "outputs": [],
   "source": [
    "# dataCadastro  -> it's a milisseconds data from 1970 ultil datastamp, you need change to undertandble simple date\n",
    "# AnoFabricacao -> It's float you will convert to int\n",
    "# AnoModelo     -> It's float you will convert to int\n",
    "\n",
    "# converting float to int and replace NaN to 0\n",
    "df_veh_sel['anoFabricacao'] = df_veh_sel['anoFabricacao'].astype(int64).copy()\n",
    "df_veh_sel['anoModelo'] = df_veh_sel['anoModelo'].astype(int64).copy()\n",
    "df_veh_sel['dataCadastrado'] = df_veh_sel['dataCadastrado'].apply(\n",
    "    lambda x: datetime.datetime.fromtimestamp(x/1000).date()).copy()"
   ]
  },
  {
   "cell_type": "markdown",
   "metadata": {
    "heading_collapsed": true,
    "hidden": true
   },
   "source": [
    "#### 1.5.2 - Positions DataFrame"
   ]
  },
  {
   "cell_type": "code",
   "execution_count": 162,
   "metadata": {
    "ExecuteTime": {
     "end_time": "2020-08-03T21:41:53.359595Z",
     "start_time": "2020-08-03T21:41:53.335142Z"
    },
    "hidden": true
   },
   "outputs": [
    {
     "name": "stdout",
     "output_type": "stream",
     "text": [
      "<class 'pandas.core.frame.DataFrame'>\n",
      "RangeIndex: 2830 entries, 0 to 2829\n",
      "Data columns (total 4 columns):\n",
      " #   Column          Non-Null Count  Dtype \n",
      "---  ------          --------------  ----- \n",
      " 0   id              2830 non-null   int64 \n",
      " 1   placa           2830 non-null   object\n",
      " 2   proprietarioId  2830 non-null   int64 \n",
      " 3   dispositivos    2830 non-null   object\n",
      "dtypes: int64(2), object(2)\n",
      "memory usage: 88.6+ KB\n"
     ]
    }
   ],
   "source": [
    "df_pos_sel.info()"
   ]
  },
  {
   "cell_type": "markdown",
   "metadata": {
    "hidden": true
   },
   "source": [
    "Neste caso manteremos id e dispositivos"
   ]
  },
  {
   "cell_type": "code",
   "execution_count": null,
   "metadata": {
    "ExecuteTime": {
     "end_time": "2020-08-03T21:31:59.387085Z",
     "start_time": "2020-08-03T21:31:01.121Z"
    },
    "hidden": true
   },
   "outputs": [],
   "source": [
    "df_pos_sel.sample(3)"
   ]
  },
  {
   "cell_type": "markdown",
   "metadata": {
    "hidden": true
   },
   "source": [
    "There are in a [dispositivos] columns like a list and inside the list have a dict, we will keep [numeroStr] and [posicoes]"
   ]
  },
  {
   "cell_type": "markdown",
   "metadata": {
    "hidden": true
   },
   "source": [
    "Get the numeroStr in the first inside the list and put on dataframe"
   ]
  },
  {
   "cell_type": "code",
   "execution_count": null,
   "metadata": {
    "ExecuteTime": {
     "end_time": "2020-08-03T21:31:59.388281Z",
     "start_time": "2020-08-03T21:31:01.125Z"
    },
    "hidden": true
   },
   "outputs": [],
   "source": [
    "# numeroStr\n",
    "df_pos_sel['numeroStr'] = df_pos_sel['dispositivos'].apply(lambda x: x[0]['numeroStr'])\n",
    "\n",
    "# posicoes\n",
    "df_pos_sel['posicoes'] = pd.DataFrame(df_pos_sel['dispositivos'].apply(lambda x: x[0]['posicoes']))"
   ]
  },
  {
   "cell_type": "code",
   "execution_count": null,
   "metadata": {
    "ExecuteTime": {
     "end_time": "2020-08-03T21:31:59.389490Z",
     "start_time": "2020-08-03T21:31:01.128Z"
    },
    "hidden": true
   },
   "outputs": [],
   "source": [
    "df_pos_sel.head(3)"
   ]
  },
  {
   "cell_type": "markdown",
   "metadata": {
    "hidden": true
   },
   "source": [
    "Coping the list in column [posicoes] and transforme in dataFrame to get the max() value than get the others values from the list that have the max.\n",
    "\n",
    "Inside the posicoes you get the ['sequencia', 'dataEquipamento', 'latitude', 'longitude', 'endereco', 'numerostr'], because it's important columns, if the posicoes has empty insert 0 all the columns and concat, after that concat to original df"
   ]
  },
  {
   "cell_type": "code",
   "execution_count": null,
   "metadata": {
    "ExecuteTime": {
     "end_time": "2020-08-03T21:31:59.390483Z",
     "start_time": "2020-08-03T21:31:01.134Z"
    },
    "hidden": true
   },
   "outputs": [],
   "source": [
    "df_pos = pd.DataFrame()\n",
    "for i in df_pos_sel['posicoes']:\n",
    "    try:\n",
    "        df = pd.DataFrame(i)[['sequencia', 'dataEquipamento', 'latitude', 'longitude', 'endereco', 'numerostr']]\n",
    "        df = df[df['sequencia'] == df['sequencia'].max()][0:1]\n",
    "        df_pos = pd.concat([df_pos, df], axis=0, ignore_index=True)\n",
    "    except KeyError:\n",
    "        df = pd.DataFrame([['0', '0', '0', '0', '0', '0']], columns=['sequencia', \n",
    "                'dataEquipamento', 'latitude', 'longitude', 'endereco', 'numerostr'])\n",
    "        df_pos = pd.concat([df_pos, df], axis=0, ignore_index=True)\n",
    "        \n",
    "# Concat the filtered dataframe and original dataframe and dropped the columns that not is more important\n",
    "df_pos_sel = pd.concat([df_pos_sel, df_pos], axis=1)\n",
    "df_pos_sel = df_pos_sel.drop(['dispositivos', 'posicoes', 'numerostr',\n",
    "            'proprietarioId', 'sequencia', 'numeroStr'], axis=1).copy()"
   ]
  },
  {
   "cell_type": "code",
   "execution_count": null,
   "metadata": {
    "ExecuteTime": {
     "end_time": "2020-08-03T21:31:59.391906Z",
     "start_time": "2020-08-03T21:31:01.137Z"
    },
    "hidden": true
   },
   "outputs": [],
   "source": [
    "# It's ok the shape is equal\n",
    "df_pos.shape, df_pos_sel.shape"
   ]
  },
  {
   "cell_type": "code",
   "execution_count": null,
   "metadata": {
    "ExecuteTime": {
     "end_time": "2020-08-03T21:31:59.394935Z",
     "start_time": "2020-08-03T21:31:01.139Z"
    },
    "hidden": true
   },
   "outputs": [],
   "source": [
    "# dataEquipamento -> let's change to date and after to string\n",
    "df_pos_sel['dataEquipamento'] = df_pos_sel['dataEquipamento'].astype(int64).copy()\n",
    "df_pos_sel['dataEquipamento'] = df_pos_sel['dataEquipamento'].apply(\n",
    "    lambda x: datetime.datetime.fromtimestamp(x/1000).date()).copy()\n",
    "\n",
    "# Converting object to float, because the map geomap need to find it.\n",
    "df_pos_sel['latitude'] = df_pos_sel['latitude'].astype(float).copy()\n",
    "df_pos_sel['longitude'] = df_pos_sel['longitude'].astype(float).copy()\n",
    "\n",
    "# Get the date and hour in exactly time request\n",
    "df_pos_sel['date_request'] = datetime.date.today()\n",
    "df_pos_sel['time_request'] = datetime.datetime.now().hour"
   ]
  },
  {
   "cell_type": "code",
   "execution_count": null,
   "metadata": {
    "ExecuteTime": {
     "end_time": "2020-08-03T21:31:59.396603Z",
     "start_time": "2020-08-03T21:31:01.142Z"
    },
    "hidden": true
   },
   "outputs": [],
   "source": [
    "df_pos_sel.head()"
   ]
  },
  {
   "cell_type": "code",
   "execution_count": null,
   "metadata": {
    "ExecuteTime": {
     "end_time": "2020-08-03T21:31:59.397970Z",
     "start_time": "2020-08-03T21:31:01.144Z"
    },
    "hidden": true
   },
   "outputs": [],
   "source": [
    "df_pos_sel.info()"
   ]
  },
  {
   "cell_type": "markdown",
   "metadata": {
    "heading_collapsed": true
   },
   "source": [
    "## 2.0 - Insert Database"
   ]
  },
  {
   "cell_type": "markdown",
   "metadata": {
    "heading_collapsed": true,
    "hidden": true
   },
   "source": [
    "### 2.1 - Connection DataBase"
   ]
  },
  {
   "cell_type": "markdown",
   "metadata": {
    "hidden": true
   },
   "source": [
    "This action mean that you create a connection with a existent database or create a new if not exist\n",
    "It's keep the connection like a cursor than with this variable you use to send command like a insert, delete, update, etc."
   ]
  },
  {
   "cell_type": "code",
   "execution_count": 756,
   "metadata": {
    "ExecuteTime": {
     "end_time": "2020-08-02T18:46:41.868545Z",
     "start_time": "2020-08-02T18:46:41.862461Z"
    },
    "hidden": true
   },
   "outputs": [],
   "source": [
    "# Create connection to create_database and table\n",
    "conn = sqlite3.connect(\"tracker.db\")\n",
    "cursor = conn.cursor()\n",
    "\n",
    "# Create engine \"connection\" from API sqlalchemy to insertion data\n",
    "engine = create_engine('sqlite:////home/python/PycharmProjects/Projects/tracker/tracker.db', echo=False)"
   ]
  },
  {
   "cell_type": "markdown",
   "metadata": {
    "heading_collapsed": true,
    "hidden": true
   },
   "source": [
    "### 2.2 - Create Table"
   ]
  },
  {
   "cell_type": "markdown",
   "metadata": {
    "hidden": true
   },
   "source": [
    "Criar tabelas manualmente \n",
    "pensar  em fazer o relacionamento entre id das duas tabelas"
   ]
  },
  {
   "cell_type": "code",
   "execution_count": 757,
   "metadata": {
    "ExecuteTime": {
     "end_time": "2020-08-02T18:46:57.127698Z",
     "start_time": "2020-08-02T18:46:56.848670Z"
    },
    "hidden": true
   },
   "outputs": [],
   "source": [
    "query_vehicles = '''CREATE TABLE IF NOT EXISTS vehicles (\n",
    "            id INTEGER, dataCadastrado TEXT, status TEXT,\n",
    "            anoFabricacao INTEGER, anoModelo INTEGER, placa TEXT,\n",
    "            marca TEXT, modelo TEXT, cor TEXT, descricao TEXT, tipo TEXT,\n",
    "            proprietario TEXT)\n",
    "            '''\n",
    "create_table(cursor, query_vehicles)\n",
    "\n",
    "\n",
    "query_positions = '''CREATE TABLE IF NOT EXISTS positions (\n",
    "            id INTEGER, placa TEXT, dataEquipamento, latitude REAL,\n",
    "            longitude REAL, endereco TEXT)\n",
    "            '''\n",
    "\n",
    "create_table(cursor, query_positions)"
   ]
  },
  {
   "cell_type": "markdown",
   "metadata": {
    "heading_collapsed": true,
    "hidden": true
   },
   "source": [
    "### 2.3 - Insertion DataBase"
   ]
  },
  {
   "cell_type": "code",
   "execution_count": 759,
   "metadata": {
    "ExecuteTime": {
     "end_time": "2020-08-02T18:49:08.320256Z",
     "start_time": "2020-08-02T18:49:08.045170Z"
    },
    "hidden": true,
    "scrolled": true
   },
   "outputs": [],
   "source": [
    "# Run the insertion if is not exists table, else, show the error, remember, \n",
    "# the sequence of columns must to be equal by table, else, the information \n",
    "# will be change and replaced the wrong place.\n",
    "df_veh_sel.to_sql('vehicles', con=engine, if_exists='append', index=False)\n",
    "df_pos_sel.to_sql('positions', con=engine, if_exists='append', index=False)"
   ]
  },
  {
   "cell_type": "code",
   "execution_count": null,
   "metadata": {
    "hidden": true
   },
   "outputs": [],
   "source": [
    "# Each positions insertion have 340Kb == 0.340MB \n",
    "# If you have insertion each 30 minutos, you will have 16.4MB/day == 490MB/month"
   ]
  },
  {
   "cell_type": "markdown",
   "metadata": {
    "heading_collapsed": true,
    "hidden": true
   },
   "source": [
    "### 2.2 - DataBase Select Query"
   ]
  },
  {
   "cell_type": "code",
   "execution_count": 35,
   "metadata": {
    "ExecuteTime": {
     "end_time": "2020-08-04T19:09:47.377932Z",
     "start_time": "2020-08-04T19:09:47.362905Z"
    },
    "hidden": true
   },
   "outputs": [],
   "source": [
    "select_cur = pd.DataFrame(cursor.execute(\n",
    "            'select * from positions').fetchall(), columns=df_pos_sel.columns)"
   ]
  },
  {
   "cell_type": "markdown",
   "metadata": {},
   "source": [
    "## 3.0 - API Request"
   ]
  },
  {
   "cell_type": "code",
   "execution_count": 29,
   "metadata": {
    "ExecuteTime": {
     "end_time": "2020-07-27T16:54:49.453228Z",
     "start_time": "2020-07-27T16:54:49.447125Z"
    }
   },
   "outputs": [],
   "source": [
    "# API to request data from users"
   ]
  },
  {
   "cell_type": "code",
   "execution_count": 779,
   "metadata": {
    "ExecuteTime": {
     "end_time": "2020-08-02T19:42:44.691426Z",
     "start_time": "2020-08-02T19:42:44.672796Z"
    }
   },
   "outputs": [],
   "source": [
    "# This picke just to continue the next steps, without loading all the codes\n",
    "\n",
    "#with open('df_position_02_03', 'wb') as file:\n",
    "#    pickle.dump(df_pos_sel, file)    "
   ]
  },
  {
   "cell_type": "code",
   "execution_count": 6,
   "metadata": {
    "ExecuteTime": {
     "end_time": "2020-08-02T20:41:53.450876Z",
     "start_time": "2020-08-02T20:41:53.448187Z"
    }
   },
   "outputs": [],
   "source": [
    "# Streamlit\n",
    "\n",
    "#with open('df_position_02_03', 'rb') as file:\n",
    "#    df_position = pickle.load(file)\n",
    "#\n",
    "#st.title(\"Veículos SegTruck\")\n",
    "#\n",
    "#st.write(f\"\"\"\n",
    "### Posições dos Veículos\n",
    "#\"\"\")\n",
    "#\n",
    "#date = st.date_input('Selecione a data')\n",
    "#\n",
    "#\n",
    "#data = df_position[df_position['dataEquipamento'] == date]\n",
    "#f\"\"\"{data.shape[0]} Veículos no mapa.\"\"\"\n",
    "#st.map(data)\n",
    "\n"
   ]
  }
 ],
 "metadata": {
  "kernelspec": {
   "display_name": "Python 3.8.2 64-bit ('venv': venv)",
   "language": "python",
   "name": "python38264bitvenvvenvfa7db62e9bdc492d9d301c0d8fab1962"
  },
  "language_info": {
   "codemirror_mode": {
    "name": "ipython",
    "version": 3
   },
   "file_extension": ".py",
   "mimetype": "text/x-python",
   "name": "python",
   "nbconvert_exporter": "python",
   "pygments_lexer": "ipython3",
   "version": "3.8.2"
  }
 },
 "nbformat": 4,
 "nbformat_minor": 2
}
