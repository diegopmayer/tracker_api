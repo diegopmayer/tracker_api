{
 "cells": [
  {
   "cell_type": "markdown",
   "metadata": {},
   "source": [
    "# Tracker Requests Positions from Vehicles"
   ]
  },
  {
   "cell_type": "markdown",
   "metadata": {
    "heading_collapsed": true
   },
   "source": [
    "## 0.0 - Imports"
   ]
  },
  {
   "cell_type": "code",
   "execution_count": 28,
   "metadata": {
    "ExecuteTime": {
     "end_time": "2020-07-27T15:31:36.946462Z",
     "start_time": "2020-07-27T15:31:36.701301Z"
    },
    "hidden": true
   },
   "outputs": [],
   "source": [
    "import pandas as pd \n",
    "from requests import post \n",
    "import json, pickle\n",
    "\n",
    "import sqlite3      # to create database\n",
    "import sqlite_utils # to insert, update and delete information\n",
    "from sqlalchemy import create_engine\n",
    "\n",
    "# pandas to transform data and convert to dataframe\n",
    "# requests.post to invite data to serverless and the serverless response with object\n",
    "# json to convert data to json or vice versa"
   ]
  },
  {
   "cell_type": "markdown",
   "metadata": {
    "heading_collapsed": true,
    "hidden": true
   },
   "source": [
    "### 0.1 - Helper Functions"
   ]
  },
  {
   "cell_type": "code",
   "execution_count": 24,
   "metadata": {
    "ExecuteTime": {
     "end_time": "2020-07-27T15:28:45.607884Z",
     "start_time": "2020-07-27T15:28:45.603396Z"
    },
    "hidden": true
   },
   "outputs": [],
   "source": [
    "# Function to get user data and exported to pickle file.\n",
    "# I deleted data inputed for security, it was only function to now how you done.\n",
    "def user_logon():\n",
    "    \n",
    "    ''' Store the data to Authentication from integration Tracker\n",
    "        url_logon: url to Authentication and get token\n",
    "        url_veiculos: Url to load vehicles informations\n",
    "        url_posicao: Url to load positions informations\n",
    "        headers: Type of send headers this case is json\n",
    "        handshake: Data to authentication from integration\n",
    "                post (informations that you must send like handshake)\n",
    "                    username: username account to access grid tracker\n",
    "                    password: password account to access grid tracker\n",
    "                    appid: Id delivered from Tracker\n",
    "                response (informations that you receive after logon)\n",
    "                    token: the alfanumeric code that it's must be send post\n",
    "                    expiration: There aren't expiration '''\n",
    "    \n",
    "    url_logon = 'http://'\n",
    "    url_veiculos = 'http://'\n",
    "    url_posicao = 'http://'\n",
    "    headers = {\"content-type\":\"application/json\"}\n",
    "    handshake = {'username':'', 'password':'', 'appid':'', 'token':'', 'expriration':''}\n",
    "    \n",
    "    return url_logon, url_veiculos, url_posicao, headers, handshake\n",
    "\n",
    "def create_table(cursor):\n",
    "    \n",
    "    ''' Create table with SQLAlchemy from DataFrame object'''\n",
    "    \n",
    "    cursor.execute('''CREATE TABLE IF NOT EXISTS veiculos (\n",
    "    id INTEGER, dataCadastrado INTEGER, fuso INTEGER,\n",
    "    deletado INTEGER, status TEXT, vin TEXT, \n",
    "    anoFabricacao REAL, anoModelo REAL, placa TEXT,\n",
    "    tipoMonitoramento TEXT, marca TEXT, modelo text,\n",
    "    cor TEXT, descricao TEXT, frota TEXT, tipo TEXT,\n",
    "    assistencia INTEGER, usuarioCriacao INTEGER,\n",
    "    proprietarioId INTEGER, proprietario TEXT)\n",
    "    ''')"
   ]
  },
  {
   "cell_type": "markdown",
   "metadata": {
    "heading_collapsed": true,
    "hidden": true
   },
   "source": [
    "### 0.2 - Requests"
   ]
  },
  {
   "cell_type": "markdown",
   "metadata": {
    "hidden": true
   },
   "source": [
    "Requests API from Tracker, with method Post, see the <a href=\"\">documentation</a>"
   ]
  },
  {
   "cell_type": "markdown",
   "metadata": {
    "heading_collapsed": true,
    "hidden": true
   },
   "source": [
    "#### 0.2.1 - User Authentication"
   ]
  },
  {
   "cell_type": "code",
   "execution_count": 25,
   "metadata": {
    "ExecuteTime": {
     "end_time": "2020-07-27T15:28:54.340946Z",
     "start_time": "2020-07-27T15:28:54.326551Z"
    },
    "hidden": true
   },
   "outputs": [],
   "source": [
    "# Dumping object with data authentication to pickle format\n",
    "# with open(\"user_logon.pkl\", \"wb\") as file:\n",
    "#    pickle.dump(user_logon(), file)\n",
    "\n",
    "\n",
    "# Loading data from pickle file content user data to connection authentication\n",
    "with open(\"user_logon.pkl\", \"rb\") as f_load:\n",
    "    url_logon, url_vehicles, url_position, headers, handshake = pickle.load(f_load)"
   ]
  },
  {
   "cell_type": "markdown",
   "metadata": {
    "hidden": true
   },
   "source": [
    "Token"
   ]
  },
  {
   "cell_type": "code",
   "execution_count": null,
   "metadata": {
    "hidden": true
   },
   "outputs": [],
   "source": [
    "# send data and return object to store token\n",
    "# without token can't access the vehicle\n",
    "response_logon = post(url_logon,\n",
    "                        data=json.dumps(handshake),\n",
    "                        headers=headers) # response array object\n",
    "token = {\"token\":response_logon.json()['object']\n",
    "        ['token']} # store token form object"
   ]
  },
  {
   "cell_type": "markdown",
   "metadata": {
    "heading_collapsed": true,
    "hidden": true
   },
   "source": [
    "#### 0.2.2 - Vehicles"
   ]
  },
  {
   "cell_type": "code",
   "execution_count": null,
   "metadata": {
    "hidden": true
   },
   "outputs": [],
   "source": [
    "# Requests to get vehicle informations\n",
    "response_vehicles = post(url_vehicles, headers=token)\n",
    "obj_vehicle = response_vehicles.json() # transform obj array to json"
   ]
  },
  {
   "cell_type": "code",
   "execution_count": null,
   "metadata": {
    "hidden": true
   },
   "outputs": [],
   "source": [
    "# Save json file in the local folder\n",
    "# this only for development mode, after validation, it's better maker a \n",
    "# function to store object without saving\n",
    "#with open('collected_2020061810.json', 'w') as json_file:\n",
    "#    json.dump(obj_veiculo, json_file)\n",
    "\n",
    "# Transforming Json to DataFrame\n",
    "obj_vehicle_df = pd.DataFrame(obj_vehicle).copy()"
   ]
  },
  {
   "cell_type": "code",
   "execution_count": null,
   "metadata": {
    "hidden": true
   },
   "outputs": [],
   "source": [
    "# Drop List to delete columns that it's not necessary for while\n",
    "drop_list = \"\"\"\n",
    "    codigorf          \n",
    "    odometroGps        \n",
    "    dataAquisicao \n",
    "    distanciaKmFrete\n",
    "    kmManual\n",
    "    horimetroManual\n",
    "    horimetroAtual\n",
    "    kmAtual\n",
    "    statusVenda\n",
    "    dataAtivado\n",
    "    dataCancelado\n",
    "    finalizado\n",
    "    renavam\n",
    "    dataInstalacao\n",
    "    motoristas\n",
    "    dispositivos\n",
    "    grupos\n",
    "    \"\"\".split()\n",
    "df_vehicles = obj_vehicle_df.drop(drop_list, axis=1).copy()"
   ]
  },
  {
   "cell_type": "markdown",
   "metadata": {
    "hidden": true
   },
   "source": [
    "#### 0.2.3 - Positions"
   ]
  },
  {
   "cell_type": "code",
   "execution_count": null,
   "metadata": {
    "hidden": true
   },
   "outputs": [],
   "source": [
    "# Requests to get vehicle positions\n",
    "response_position = post(url_position, headers=token)\n",
    "obj_position = response_position.json()"
   ]
  },
  {
   "cell_type": "code",
   "execution_count": null,
   "metadata": {
    "hidden": true
   },
   "outputs": [],
   "source": [
    "# Transforming Json to DataFrame\n",
    "df_positions = pd.DataFrame(obj_position).copy()"
   ]
  },
  {
   "cell_type": "markdown",
   "metadata": {
    "hidden": true
   },
   "source": [
    "<h3>Resumo em Português</h3>\n",
    "<p>realizado o request com método post para a api da tracker no post contém as informações de envio; o tipo de dados \"json\" os dados do usuário(user, senha, id) e retornado um objecto com as informações e enviadas e mais um objeto com as informações do token, sem o token não é possível fazer a requisição, com isso na requisição para veiculos é enviado o token para que deem acesso aos dados, então retornado um objeto array com os dados dos veiculos, porém mais da metade dos campos(colunas) estão vazias(nulas), com isso uma das informações mais importantes que é o posicionamento do veiculo estão nulas, invalidando o projeto, tem outra url de para requisição que é para pegar especificadamente o posicionamento, porém, retornado vazio também, será comunicado ao responsável técnico da tracker para correção ou permissão da mesma.(20/06/2020)</p>"
   ]
  },
  {
   "cell_type": "markdown",
   "metadata": {
    "heading_collapsed": true
   },
   "source": [
    "## 1.0 - Data Description"
   ]
  },
  {
   "cell_type": "code",
   "execution_count": null,
   "metadata": {
    "hidden": true
   },
   "outputs": [],
   "source": [
    "# DataFrame from vehicles \n",
    "df_vehicles.head()         # see the columns and structure of dataframe"
   ]
  },
  {
   "cell_type": "code",
   "execution_count": null,
   "metadata": {
    "hidden": true
   },
   "outputs": [],
   "source": [
    "# Dataframe from positions\n",
    "df_positions.head()        # see the columns and structure of dataframe"
   ]
  },
  {
   "cell_type": "code",
   "execution_count": null,
   "metadata": {
    "hidden": true
   },
   "outputs": [],
   "source": [
    "# MERGE will be a good soluction here? try\n",
    "\n",
    "df_merge = pd.merge([df_vehicles, df_positions]) # see the index and columns before the execute this"
   ]
  },
  {
   "cell_type": "code",
   "execution_count": null,
   "metadata": {
    "hidden": true
   },
   "outputs": [],
   "source": [
    "# after seeing each dataframe, thinking how can you insert data at the database"
   ]
  },
  {
   "cell_type": "markdown",
   "metadata": {
    "heading_collapsed": true,
    "hidden": true
   },
   "source": [
    "### 1.1 - Rename Columns"
   ]
  },
  {
   "cell_type": "markdown",
   "metadata": {
    "heading_collapsed": true,
    "hidden": true
   },
   "source": [
    "### 1.2 - Data Dimention"
   ]
  },
  {
   "cell_type": "markdown",
   "metadata": {
    "heading_collapsed": true,
    "hidden": true
   },
   "source": [
    "### 1.3 - Check NaN and Fillout"
   ]
  },
  {
   "cell_type": "code",
   "execution_count": null,
   "metadata": {
    "hidden": true
   },
   "outputs": [],
   "source": [
    "df_merge.isna().sum()"
   ]
  },
  {
   "cell_type": "markdown",
   "metadata": {
    "heading_collapsed": true
   },
   "source": [
    "## 2.0 - Data Filtering"
   ]
  },
  {
   "cell_type": "code",
   "execution_count": null,
   "metadata": {
    "hidden": true
   },
   "outputs": [],
   "source": [
    "# What columns it's really necessary to store on database.\n",
    "\n",
    "# List of columns that will be note necessary.\n",
    "drop_list_merge = [\n",
    "    \n",
    "]\n",
    "\n",
    "df_selected = df_merge.drop(drop_list_merge, axis=1).copy()"
   ]
  },
  {
   "cell_type": "markdown",
   "metadata": {
    "heading_collapsed": true
   },
   "source": [
    "## 3.0 - Insert Database"
   ]
  },
  {
   "cell_type": "markdown",
   "metadata": {
    "heading_collapsed": true,
    "hidden": true
   },
   "source": [
    "### 3.1 - Connection DataBase"
   ]
  },
  {
   "cell_type": "code",
   "execution_count": null,
   "metadata": {
    "hidden": true
   },
   "outputs": [],
   "source": [
    "# Create connection to create_database and table\n",
    "conn = sqlite3.connect(\"tracker.db\")\n",
    "cursor = conn.cursor()\n",
    "\n",
    "# Create engine \"connection\" from API sqlalchemy to insertion data\n",
    "engine = create_engine('sqlite:////home/python/PycharmProjects/Projects/tracker/tracker.db', echo=False)"
   ]
  },
  {
   "cell_type": "markdown",
   "metadata": {
    "heading_collapsed": true,
    "hidden": true
   },
   "source": [
    "### 3.2 - Create a DataBase"
   ]
  },
  {
   "cell_type": "code",
   "execution_count": null,
   "metadata": {
    "hidden": true
   },
   "outputs": [],
   "source": [
    "# Create Table\n",
    "create_table(cursor)"
   ]
  },
  {
   "cell_type": "markdown",
   "metadata": {
    "heading_collapsed": true,
    "hidden": true
   },
   "source": [
    "### 3.3 - DataBase Insertion"
   ]
  },
  {
   "cell_type": "code",
   "execution_count": null,
   "metadata": {
    "hidden": true
   },
   "outputs": [],
   "source": [
    "# Run the insertion if is not exists table, else, show the error, remember, \n",
    "# the sequence of columns must to be equal by table, else, the information \n",
    "# will be change and replaced the wrong place.\n",
    "df_selected.to_sql('veiculos', con=engine, if_exists='append', index=False)"
   ]
  },
  {
   "cell_type": "markdown",
   "metadata": {
    "heading_collapsed": true,
    "hidden": true
   },
   "source": [
    "### 3.2 - DataBase Select Query"
   ]
  },
  {
   "cell_type": "code",
   "execution_count": null,
   "metadata": {
    "hidden": true
   },
   "outputs": [],
   "source": [
    "select_cur = pd.DataFrame(cursor.execute(\n",
    "            'select * from veiculos').fetchall(), columns=obj_df.columns)"
   ]
  },
  {
   "cell_type": "markdown",
   "metadata": {
    "heading_collapsed": true
   },
   "source": [
    "## 4.0 - API Request"
   ]
  },
  {
   "cell_type": "code",
   "execution_count": 29,
   "metadata": {
    "ExecuteTime": {
     "end_time": "2020-07-27T16:54:49.453228Z",
     "start_time": "2020-07-27T16:54:49.447125Z"
    },
    "hidden": true
   },
   "outputs": [],
   "source": [
    "# API to request data from users"
   ]
  }
 ],
 "metadata": {
  "kernelspec": {
   "display_name": "Python 3.8.2 64-bit ('venv': venv)",
   "language": "python",
   "name": "python38264bitvenvvenvfa7db62e9bdc492d9d301c0d8fab1962"
  },
  "language_info": {
   "codemirror_mode": {
    "name": "ipython",
    "version": 3
   },
   "file_extension": ".py",
   "mimetype": "text/x-python",
   "name": "python",
   "nbconvert_exporter": "python",
   "pygments_lexer": "ipython3",
   "version": "3.8.2"
  }
 },
 "nbformat": 4,
 "nbformat_minor": 2
}
